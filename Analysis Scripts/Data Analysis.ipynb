{
 "cells": [
  {
   "cell_type": "code",
   "execution_count": 74,
   "metadata": {},
   "outputs": [],
   "source": [
    "#import libraries\n",
    "import pandas as pd\n",
    "import random\n",
    "import matplotlib.pyplot as plt\n",
    "import seaborn as sns\n",
    "import networkx as nx\n",
    "import plotly.express as px\n",
    "from plotly.subplots import make_subplots\n",
    "import plotly.graph_objects as go\n",
    "import plotly.colors\n",
    "import json\n",
    "import scipy.stats as stats\n",
    "import numpy as np\n",
    "from networkx.algorithms.community import greedy_modularity_communities\n",
    "from sklearn.metrics import mutual_info_score, normalized_mutual_info_score"
   ]
  },
  {
   "cell_type": "code",
   "execution_count": 75,
   "metadata": {},
   "outputs": [],
   "source": [
    "# Load data\n",
    "def load_json_file(file_path):\n",
    "    \"\"\"\n",
    "    This function rewrites then json files so that they can be read properly.\n",
    "    \"\"\"\n",
    "    try:\n",
    "        with open(file_path, 'r') as f: # Read teh file as a string\n",
    "            json_data = f.read()\n",
    "\n",
    "        corrected_json_data = json_data.replace(\"'\", '\"') # Issue being corrected\n",
    "\n",
    "        return json.loads(corrected_json_data) # return loaded data\n",
    "    \n",
    "    except (FileNotFoundError, json.JSONDecodeError) as e:\n",
    "        print(f\"Error loading JSON file '{file_path}': {e}\")\n",
    "        return None\n",
    "\n",
    "def read_edges(filename):\n",
    "    with open(filename, 'r') as f:\n",
    "        content = f.read()\n",
    "        content = content.replace('\\'', '\"')\n",
    "        return json.loads(content)\n",
    "\n",
    "files = [\"data/edges-total.json\", \"data/edges-female.json\", \"data/edges-male.json\"]\n",
    "edges_total = load_json_file(files[0])\n",
    "edges_female = load_json_file(files[1])\n",
    "edges_male = load_json_file(files[2])\n",
    "nodes = load_json_file(\"data/nodes.json\")\n",
    "\n",
    "YEARS = [2013, 2014, 2015, 2016, 2017, 2018, 2019, 2020, 2021, 2022]\n",
    "students_graphs = []\n",
    "\n",
    "# Loading data:\n",
    "\n",
    "with open('data/borders-edges.json', 'r') as f:\n",
    "    borders_edges = json.load(f)\n",
    "    \n",
    "with open('data/language-model-edges.json', 'r') as f:\n",
    "    language_edges = json.load(f)\n",
    "    \n",
    "with open('data/country-language.json', 'r') as f:\n",
    "    country_language = json.load(f)\n",
    "# Loading graphs\n",
    "\n",
    "for i in range(len(YEARS)):\n",
    "    curr_edges = edges_total[i]\n",
    "    G = nx.DiGraph()\n",
    "    G.add_nodes_from(nodes)\n",
    "    for edge in curr_edges:\n",
    "        G.add_edge(edge['origin'], edge['destination'], weight=edge['value'])\n",
    "    students_graphs.append(G)\n",
    "\n",
    "borders_graph = nx.Graph()\n",
    "language_graph = nx.Graph()\n",
    "\n",
    "borders_graph.add_nodes_from(nodes)\n",
    "language_graph.add_nodes_from(nodes)\n",
    "\n",
    "for edge in borders_edges:\n",
    "    if edge[0] in nodes and edge[1] in nodes:\n",
    "        borders_graph.add_edge(edge[0], edge[1])\n",
    "\n",
    "for edge in language_edges:\n",
    "    language_graph.add_edge(edge['source'], edge['target'], weight=1, family=edge['family'])\n",
    "\n",
    "language_country = nx.Graph()\n",
    "\n",
    "language_country.add_nodes_from(nodes)\n",
    "\n",
    "# Add edges based on common languages\n",
    "for i in range(len(nodes)):\n",
    "    for j in range(i + 1, len(nodes)):\n",
    "        country1 = nodes[i]\n",
    "        country2 = nodes[j]\n",
    "        languages1 = set(country_language[country1])\n",
    "        languages2 = set(country_language[country2])\n",
    "        if languages1 & languages2:  # Check if there is any common language\n",
    "            language_country.add_edge(country1, country2)"
   ]
  },
  {
   "cell_type": "code",
   "execution_count": 76,
   "metadata": {},
   "outputs": [],
   "source": [
    "# Defining constants\n",
    "num_years = len(YEARS)\n",
    "max_values_total = [max(sublist, key=lambda x: x['value'])['value'] for sublist in edges_total]\n",
    "max_values_female = [max(sublist, key=lambda x: x['value'])['value'] for sublist in edges_female]\n",
    "max_values_male = [max(sublist, key=lambda x: x['value'])['value'] for sublist in edges_male]\n",
    "\n",
    "min_values_total = [min(sublist, key=lambda x: x['value'])['value'] for sublist in edges_total]\n",
    "min_values_female = [min(sublist, key=lambda x: x['value'])['value'] for sublist in edges_female]\n",
    "min_values_male = [min(sublist, key=lambda x: x['value'])['value'] for sublist in edges_male]\n",
    "\n",
    "min_values_combined = [min(min_values_female[i], min_values_male[i]) for i in range(len(YEARS))] # When plotting males with females\n",
    "max_values_combined = [max(max_values_female[i], max_values_male[i]) for i in range(len(YEARS))]"
   ]
  },
  {
   "cell_type": "code",
   "execution_count": 77,
   "metadata": {},
   "outputs": [],
   "source": [
    "language_to_country = dict()\n",
    "for country, languages in country_language.items():\n",
    "    for language in languages:\n",
    "        if language not in language_to_country:\n",
    "            language_to_country[language] = []\n",
    "        language_to_country[language].append(country)\n",
    "multi_linguial_countries = {}\n",
    "for country in country_language.keys():\n",
    "    if len(country_language[country]) > 1:    \n",
    "        multi_linguial_countries[country] = country_language[country] \n",
    "nx.write_gexf(language_country, 'language_country.gexf')"
   ]
  },
  {
   "cell_type": "code",
   "execution_count": 78,
   "metadata": {},
   "outputs": [],
   "source": [
    "normalized_edges_total = []\n",
    "for year_data, max_val, min_val in zip(edges_total, max_values_total, min_values_total):\n",
    "    normalized_year_data = []\n",
    "    for entry in year_data:\n",
    "        normalized_value = (entry['value'] - min_val) / (max_val - min_val)\n",
    "        normalized_year_data.append({'origin': entry['origin'], 'destination': entry['destination'], 'value': normalized_value})\n",
    "    normalized_edges_total.append(normalized_year_data)"
   ]
  },
  {
   "cell_type": "code",
   "execution_count": 79,
   "metadata": {},
   "outputs": [],
   "source": [
    "colors = plotly.colors.qualitative.Plotly * (37 // len(plotly.colors.qualitative.Plotly) + 1)\n",
    "colors = colors[:37]  # Ensure the list has exactly 37 colors\n",
    "color_map = {node: colors[i % len(colors)] for i, node in enumerate(nodes)}"
   ]
  },
  {
   "cell_type": "code",
   "execution_count": 80,
   "metadata": {},
   "outputs": [],
   "source": [
    "fig = make_subplots(rows=num_years, cols=1, subplot_titles=[f'Year {year}' for year in YEARS])\n",
    "\n",
    "for i, (year, year_data) in enumerate(zip(YEARS, normalized_edges_total)):\n",
    "    # Create a dictionary to accumulate values by origin and destination\n",
    "    aggregated_data = {}\n",
    "    for entry in year_data:\n",
    "        origin = entry['origin']\n",
    "        destination = entry['destination']\n",
    "        value = entry['value']\n",
    "        if origin not in aggregated_data:\n",
    "            aggregated_data[origin] = {}\n",
    "        if destination not in aggregated_data[origin]:\n",
    "            aggregated_data[origin][destination] = 0\n",
    "        aggregated_data[origin][destination] += value\n",
    "\n",
    "    origins = list(aggregated_data.keys())\n",
    "    destinations = set(dest for orig in aggregated_data.values() for dest in orig.keys())\n",
    "\n",
    "    for destination in destinations:\n",
    "        values = [aggregated_data[orig].get(destination, 0) for orig in origins]\n",
    "        fig.add_trace(\n",
    "            go.Bar(\n",
    "                x=origins,\n",
    "                y=values,\n",
    "                name=destination,\n",
    "                marker=dict(color=color_map[destination]),\n",
    "                showlegend=(i == 0)\n",
    "            ),\n",
    "            row=i+1, col=1\n",
    "        )\n",
    "\n",
    "fig.update_layout(height=400*num_years, title_text='Normalized Stacked Bar Charts for Each Year showing Outgoing Students', barmode='stack')\n",
    "\n",
    "fig.write_html('outgoing_students.html')"
   ]
  },
  {
   "cell_type": "code",
   "execution_count": 81,
   "metadata": {},
   "outputs": [],
   "source": [
    "fig = make_subplots(rows=num_years, cols=1, subplot_titles=[f'Year {year}' for year in YEARS])\n",
    "\n",
    "for i, (year, year_data) in enumerate(zip(YEARS, normalized_edges_total)):\n",
    "    # Create a dictionary to accumulate values by destination and origin\n",
    "    aggregated_data = {}\n",
    "    for entry in year_data:\n",
    "        origin = entry['origin']\n",
    "        destination = entry['destination']\n",
    "        value = entry['value']\n",
    "        if destination not in aggregated_data:\n",
    "            aggregated_data[destination] = {}\n",
    "        if origin not in aggregated_data[destination]:\n",
    "            aggregated_data[destination][origin] = 0\n",
    "        aggregated_data[destination][origin] += value\n",
    "\n",
    "    destinations = list(aggregated_data.keys())\n",
    "    origins = set(orig for dest in aggregated_data.values() for orig in dest.keys())\n",
    "\n",
    "    for origin in origins:\n",
    "        values = [aggregated_data[dest].get(origin, 0) for dest in destinations]\n",
    "        fig.add_trace(\n",
    "            go.Bar(\n",
    "                x=destinations,\n",
    "                y=values,\n",
    "                name=origin,\n",
    "                marker=dict(color=color_map[origin]),\n",
    "                showlegend=(i == 0)\n",
    "            ),\n",
    "            row=i+1, col=1\n",
    "        )\n",
    "\n",
    "fig.update_layout(height=400*num_years, title_text='Normalized Stacked Bar Charts for Each Year showing Incoming Students', barmode='stack')\n",
    "\n",
    "fig.write_html('incoming_students.html')\n"
   ]
  },
  {
   "cell_type": "code",
   "execution_count": 82,
   "metadata": {},
   "outputs": [],
   "source": [
    "incoming_total = [dict() for _ in YEARS]\n",
    "outgoing_total = [dict() for _ in YEARS]\n",
    "\n",
    "for i, year_data in enumerate(normalized_edges_total):\n",
    "    for entry in year_data:\n",
    "        origin = entry['origin']\n",
    "        destination = entry['destination']\n",
    "        value = entry['value']\n",
    "        if origin not in outgoing_total[i]:\n",
    "            outgoing_total[i][origin] = 0\n",
    "        if destination not in incoming_total[i]:\n",
    "            incoming_total[i][destination] = 0\n",
    "        outgoing_total[i][origin] += value\n",
    "        incoming_total[i][destination] += value"
   ]
  },
  {
   "cell_type": "code",
   "execution_count": 83,
   "metadata": {},
   "outputs": [],
   "source": [
    "fig = make_subplots(rows=num_years, cols=1, subplot_titles=[f'Year {year}' for year in YEARS])\n",
    "\n",
    "for i, (incoming_data, outgoing_data) in enumerate(zip(incoming_total, outgoing_total)):\n",
    "    nodes = list(set(incoming_data.keys()).union(set(outgoing_data.keys())))\n",
    "\n",
    "    incoming_values = [incoming_data.get(node, 0) for node in nodes]\n",
    "    outgoing_values = [outgoing_data.get(node, 0) for node in nodes]\n",
    "\n",
    "    colors = {'Incoming': 'blue', 'Outgoing': 'green'}\n",
    "\n",
    "    for name, values, color in [('Outgoing', outgoing_values, colors['Outgoing']), ('Incoming', incoming_values, colors['Incoming'])]:\n",
    "        fig.add_trace(\n",
    "            go.Bar(x=values, y=nodes, orientation='h', name=name, marker_color=color),\n",
    "            row=i+1, col=1\n",
    "        )\n",
    "\n",
    "fig.update_layout(height=400*num_years, title_text='Incoming and Outgoing Edge Weights for Each Node', barmode='stack')\n",
    "\n",
    "fig.write_html('incoming_outgoing.html')"
   ]
  },
  {
   "cell_type": "code",
   "execution_count": 84,
   "metadata": {},
   "outputs": [],
   "source": [
    "incoming_total_male = [dict() for _ in YEARS]\n",
    "outgoing_total_male = [dict() for _ in YEARS]\n",
    "incoming_total_female = [dict() for _ in YEARS]\n",
    "outgoing_total_female = [dict() for _ in YEARS]\n",
    "\n",
    "for i, year in enumerate(YEARS):\n",
    "    # Male data\n",
    "    for edge in edges_male[i]:\n",
    "        origin, destination, value = edge['origin'], edge['destination'], edge['value']\n",
    "        if destination not in incoming_total_male[i]:\n",
    "            incoming_total_male[i][destination] = 0\n",
    "        incoming_total_male[i][destination] += value\n",
    "        if origin not in outgoing_total_male[i]:\n",
    "            outgoing_total_male[i][origin] = 0\n",
    "        outgoing_total_male[i][origin] += value\n",
    "\n",
    "    # Female data\n",
    "    for edge in edges_female[i]:\n",
    "        origin, destination, value = edge['origin'], edge['destination'], edge['value']\n",
    "        if destination not in incoming_total_female[i]:\n",
    "            incoming_total_female[i][destination] = 0\n",
    "        incoming_total_female[i][destination] += value\n",
    "        if origin not in outgoing_total_female[i]:\n",
    "            outgoing_total_female[i][origin] = 0\n",
    "        outgoing_total_female[i][origin] += value"
   ]
  },
  {
   "cell_type": "code",
   "execution_count": 85,
   "metadata": {},
   "outputs": [],
   "source": [
    "fig1 = make_subplots(rows=num_years, cols=1, subplot_titles=[f'Year {year}' for year in YEARS])\n",
    "\n",
    "for i, year in enumerate(YEARS):\n",
    "    # Calculate net change for males\n",
    "    male_net_change = {}\n",
    "    for node in set(incoming_total_male[i].keys()).union(set(outgoing_total_male[i].keys())):\n",
    "        incoming_value = incoming_total_male[i].get(node, 0)\n",
    "        outgoing_value = outgoing_total_male[i].get(node, 0)\n",
    "        male_net_change[node] = incoming_value - outgoing_value\n",
    "\n",
    "    # Calculate net change for females\n",
    "    female_net_change = {}\n",
    "    for node in set(incoming_total_female[i].keys()).union(set(outgoing_total_female[i].keys())):\n",
    "        incoming_value = incoming_total_female[i].get(node, 0)\n",
    "        outgoing_value = outgoing_total_female[i].get(node, 0)\n",
    "        female_net_change[node] = incoming_value - outgoing_value\n",
    "\n",
    "    # Calculate total net change\n",
    "    total_net_change = {node: male_net_change.get(node, 0) + female_net_change.get(node, 0)\n",
    "                        for node in set(male_net_change.keys()).union(set(female_net_change.keys()))}\n",
    "\n",
    "    # Normalize the total net change\n",
    "    max_net_change = max(abs(value) for value in total_net_change.values())\n",
    "    if max_net_change != 0:\n",
    "        total_net_change = {node: value / max_net_change for node, value in total_net_change.items()}\n",
    "\n",
    "    nodes = list(total_net_change.keys())\n",
    "    total_net_change_values = [total_net_change[node] for node in nodes]\n",
    "\n",
    "    # Create trace for total net change\n",
    "    fig1.add_trace(\n",
    "        go.Bar(x=nodes, y=total_net_change_values, name=f'Total Net Change {year}', marker_color='grey', showlegend=False),\n",
    "        row=i+1, col=1\n",
    "    )\n",
    "\n",
    "fig1.update_layout(height=400*num_years, title_text='Normalized Total Net Change in Edge Weights for Each Node')\n",
    "fig1.write_html('normalized_total_net_change.html')\n",
    "\n",
    "# 2. Create the second graph: plot of subplots showing net change of males vs females over the years for each node\n",
    "\n",
    "fig2 = make_subplots(rows=len(nodes), cols=1, subplot_titles=nodes)\n",
    "\n",
    "for j, node in enumerate(nodes):\n",
    "    male_net_change_values = []\n",
    "    female_net_change_values = []\n",
    "    \n",
    "    for i, year in enumerate(YEARS):\n",
    "        # Calculate net change for the node\n",
    "        male_net_change = incoming_total_male[i].get(node, 0) - outgoing_total_male[i].get(node, 0)\n",
    "        female_net_change = incoming_total_female[i].get(node, 0) - outgoing_total_female[i].get(node, 0)\n",
    "        \n",
    "        male_net_change_values.append(male_net_change)\n",
    "        female_net_change_values.append(female_net_change)\n",
    "\n",
    "    # Add male net change trace\n",
    "    fig2.add_trace(\n",
    "        go.Bar(x=YEARS, y=male_net_change_values, name=f'Male Net Change {node}', marker_color='blue', showlegend=(j == 0)),\n",
    "        row=j+1, col=1\n",
    "    )\n",
    "    \n",
    "    # Add female net change trace\n",
    "    fig2.add_trace(\n",
    "        go.Bar(x=YEARS, y=female_net_change_values, name=f'Female Net Change {node}', marker_color='pink', showlegend=(j == 0)),\n",
    "        row=j+1, col=1\n",
    "    )\n",
    "\n",
    "fig2.update_layout(height=400*len(nodes), title_text='Net Change in Edge Weights for Males vs Females Over the Years for Each Node')\n",
    "fig2.write_html('net_change_male_vs_female.html')"
   ]
  },
  {
   "cell_type": "code",
   "execution_count": 86,
   "metadata": {},
   "outputs": [
    {
     "name": "stdout",
     "output_type": "stream",
     "text": [
      "Language Network Degree Centrality: TUR \n",
      "\n",
      "Border Network Degree Centrality: TUR \n",
      "\n",
      "---------------------------------\n",
      "Student Network Degree Centrality for 2013: TUR\n",
      "---------------------------------\n",
      "Student Network Degree Centrality for 2014: TUR\n",
      "---------------------------------\n",
      "Student Network Degree Centrality for 2015: TUR\n",
      "---------------------------------\n",
      "Student Network Degree Centrality for 2016: TUR\n",
      "---------------------------------\n",
      "Student Network Degree Centrality for 2017: TUR\n",
      "---------------------------------\n",
      "Student Network Degree Centrality for 2018: TUR\n",
      "---------------------------------\n",
      "Student Network Degree Centrality for 2019: TUR\n",
      "---------------------------------\n",
      "Student Network Degree Centrality for 2020: TUR\n",
      "---------------------------------\n",
      "Student Network Degree Centrality for 2021: TUR\n",
      "---------------------------------\n",
      "Student Network Degree Centrality for 2022: TUR\n"
     ]
    },
    {
     "name": "stderr",
     "output_type": "stream",
     "text": [
      "/var/folders/jp/bdm9xg0d6870cmmvqmgc1sgw0000gn/T/ipykernel_53387/3943651817.py:3: FutureWarning:\n",
      "\n",
      "adjacency_matrix will return a scipy.sparse array instead of a matrix in Networkx 3.0.\n",
      "\n",
      "/var/folders/jp/bdm9xg0d6870cmmvqmgc1sgw0000gn/T/ipykernel_53387/3943651817.py:4: FutureWarning:\n",
      "\n",
      "adjacency_matrix will return a scipy.sparse array instead of a matrix in Networkx 3.0.\n",
      "\n",
      "/var/folders/jp/bdm9xg0d6870cmmvqmgc1sgw0000gn/T/ipykernel_53387/3943651817.py:5: FutureWarning:\n",
      "\n",
      "adjacency_matrix will return a scipy.sparse array instead of a matrix in Networkx 3.0.\n",
      "\n"
     ]
    }
   ],
   "source": [
    "# Adjacency matrices\n",
    "\n",
    "borders_adjacency = nx.adjacency_matrix(borders_graph)\n",
    "language_adjacency = nx.adjacency_matrix(language_graph)\n",
    "students_flow_adjacency = [nx.adjacency_matrix(graph) for graph in students_graphs]\n",
    "\n",
    "deg_cent_language = nx.degree_centrality(language_graph)\n",
    "deg_cent_border = nx.degree_centrality(borders_graph)\n",
    "deg_cent_student = [nx.degree_centrality(graph) for graph in students_graphs]\n",
    "\n",
    "print(\"Language Network Degree Centrality:\", max(deg_cent_language), '\\n')\n",
    "print(\"Border Network Degree Centrality:\", max(deg_cent_border), '\\n')\n",
    "for i, year in enumerate(YEARS):\n",
    "    print('---------------------------------')\n",
    "    print(f\"Student Network Degree Centrality for {year}:\",max(deg_cent_student[i]))"
   ]
  },
  {
   "cell_type": "code",
   "execution_count": 87,
   "metadata": {},
   "outputs": [
    {
     "name": "stdout",
     "output_type": "stream",
     "text": [
      "Student Network Closeness Centrality for 2013: {'ALB': 0.0, 'AUT': 1.0, 'BEL': 0.9736842105263158, 'BGR': 0.925, 'CHE': 1.0, 'CYP': 0.7115384615384616, 'CZE': 0.9736842105263158, 'DEU': 1.0, 'DNK': 1.0, 'EST': 0.8604651162790697, 'ESP': 0.9736842105263158, 'FIN': 1.0, 'FRA': 1.0, 'HRV': 0.7551020408163265, 'HUN': 0.9736842105263158, 'ITA': 0.9736842105263158, 'LTU': 0.8809523809523809, 'LUX': 0.9024390243902439, 'LVA': 0.9024390243902439, 'MKD': 0.7115384615384616, 'NLD': 1.0, 'NOR': 0.9736842105263158, 'POL': 0.9487179487179487, 'PRT': 0.9736842105263158, 'ROU': 0.9024390243902439, 'SRB': 0.7872340425531915, 'SWE': 1.0, 'SVN': 0.925, 'SVK': 0.9736842105263158, 'TUR': 0.9024390243902439, 'GBR': 1.0, 'GRC': 0.9487179487179487, 'ISL': 0.8809523809523809, 'LIE': 0.6727272727272727, 'MLT': 0.8222222222222222, 'BIH': 0.0, 'IRL': 0.0, 'MNE': 0.0}\n",
      "Language Network Closeness Centrality: {'ALB': 0.1589825119236884, 'AUT': 0.30405405405405406, 'BEL': 0.40540540540540543, 'BGR': 0.18018018018018017, 'CHE': 0.40540540540540543, 'CYP': 0.16891891891891891, 'CZE': 0.05405405405405406, 'DEU': 0.30405405405405406, 'DNK': 0.05405405405405406, 'EST': 0.05405405405405406, 'ESP': 0.26439482961222094, 'FIN': 0.05405405405405406, 'FRA': 0.26439482961222094, 'HRV': 0.18018018018018017, 'HUN': 0.05405405405405406, 'ITA': 0.26439482961222094, 'LTU': 0.02702702702702703, 'LUX': 0.40540540540540543, 'LVA': 0.02702702702702703, 'MKD': 0.2457002457002457, 'NLD': 0.30405405405405406, 'NOR': 0.30405405405405406, 'POL': 0.05405405405405406, 'PRT': 0.26439482961222094, 'ROU': 0.26439482961222094, 'SRB': 0.18018018018018017, 'SWE': 0.05405405405405406, 'SVN': 0.18018018018018017, 'SVK': 0.05405405405405406, 'TUR': 0.10810810810810811, 'GBR': 0.30405405405405406, 'GRC': 0.1589825119236884, 'ISL': 0.05405405405405406, 'LIE': 0.30405405405405406, 'MLT': 0.30405405405405406, 'BIH': 0.18018018018018017, 'IRL': 0.30405405405405406, 'MNE': 0.18018018018018017}\n",
      "Border Network Closeness Centrality: {'ALB': 0.2164736164736165, 'AUT': 0.3342607313195548, 'BEL': 0.2418056354226567, 'BGR': 0.21855509355509356, 'CHE': 0.2877180978446801, 'CYP': 0.0, 'CZE': 0.2877180978446801, 'DEU': 0.3156906906906907, 'DNK': 0.22729729729729728, 'EST': 0.14385904892234005, 'ESP': 0.20294401544401547, 'FIN': 0.05405405405405406, 'FRA': 0.26429918290383403, 'HRV': 0.2738521654184305, 'HUN': 0.3247104247104247, 'ITA': 0.2738521654184305, 'LTU': 0.21855509355509356, 'LUX': 0.23926031294452346, 'LVA': 0.17484407484407485, 'MKD': 0.2164736164736165, 'NLD': 0.2295932295932296, 'NOR': 0.05405405405405406, 'POL': 0.28412162162162163, 'PRT': 0.16235521235521236, 'ROU': 0.26126126126126126, 'SRB': 0.27719182597231373, 'SWE': 0.05405405405405406, 'SVN': 0.29140679140679143, 'SVK': 0.29907539118065435, 'TUR': 0.17484407484407485, 'GBR': 0.02702702702702703, 'GRC': 0.1789742498403916, 'ISL': 0.0, 'LIE': 0.24706227967097533, 'MLT': 0.0, 'BIH': 0.22067698766727892, 'IRL': 0.02702702702702703, 'MNE': 0.22504682900722503}\n"
     ]
    }
   ],
   "source": [
    "close_cent_students = [nx.closeness_centrality(graph) for graph in students_graphs]\n",
    "print(\"Student Network Closeness Centrality for 2013:\", (close_cent_students[0]))\n",
    "close_cent_language = nx.closeness_centrality(language_graph)\n",
    "print(\"Language Network Closeness Centrality:\", (close_cent_language))\n",
    "close_cent_border = nx.closeness_centrality(borders_graph)\n",
    "print(\"Border Network Closeness Centrality:\", (close_cent_border))"
   ]
  },
  {
   "cell_type": "code",
   "execution_count": 88,
   "metadata": {},
   "outputs": [
    {
     "name": "stdout",
     "output_type": "stream",
     "text": [
      "Max Closeness Centrality Node for Student Network in 2013: AUT, Closeness Centrality: 1.0\n",
      "Max Closeness Centrality Node for Student Network in 2014: AUT, Closeness Centrality: 1.0\n",
      "Max Closeness Centrality Node for Student Network in 2015: AUT, Closeness Centrality: 1.0\n",
      "Max Closeness Centrality Node for Student Network in 2016: AUT, Closeness Centrality: 1.0\n",
      "Max Closeness Centrality Node for Student Network in 2017: AUT, Closeness Centrality: 1.0\n",
      "Max Closeness Centrality Node for Student Network in 2018: AUT, Closeness Centrality: 1.0\n",
      "Max Closeness Centrality Node for Student Network in 2019: AUT, Closeness Centrality: 1.0\n",
      "Max Closeness Centrality Node for Student Network in 2020: AUT, Closeness Centrality: 1.0\n",
      "Max Closeness Centrality Node for Student Network in 2021: AUT, Closeness Centrality: 1.0\n",
      "Max Closeness Centrality Node for Student Network in 2022: AUT, Closeness Centrality: 1.0\n",
      "Max Closeness Centrality Node for Language Network: BEL, Closeness Centrality: 0.40540540540540543\n",
      "Max Closeness Centrality Node for Border Network: AUT, Closeness Centrality: 0.3342607313195548\n"
     ]
    }
   ],
   "source": [
    "for year, close_cent in zip(range(2013, 2023), close_cent_students):\n",
    "    max_node = max(close_cent, key=close_cent.get)\n",
    "    max_closeness = close_cent[max_node]\n",
    "    print(f\"Max Closeness Centrality Node for Student Network in {year}: {max_node}, Closeness Centrality: {max_closeness}\")\n",
    "\n",
    "# For language network\n",
    "max_node_lang = max(close_cent_language, key=close_cent_language.get)\n",
    "max_closeness_lang = close_cent_language[max_node_lang]\n",
    "print(f\"Max Closeness Centrality Node for Language Network: {max_node_lang}, Closeness Centrality: {max_closeness_lang}\")\n",
    "\n",
    "# For border network\n",
    "max_node_border = max(close_cent_border, key=close_cent_border.get)\n",
    "max_closeness_border = close_cent_border[max_node_border]\n",
    "print(f\"Max Closeness Centrality Node for Border Network: {max_node_border}, Closeness Centrality: {max_closeness_border}\")"
   ]
  },
  {
   "cell_type": "code",
   "execution_count": 89,
   "metadata": {},
   "outputs": [
    {
     "name": "stdout",
     "output_type": "stream",
     "text": [
      "Spearman Correlation between Student Network and Language Network Centrality: 0.13997349973755227\n",
      "Spearman Correlation between Student Network and Border Network Centrality: 0.2984273115335929\n"
     ]
    }
   ],
   "source": [
    "average_centrality_students = {}\n",
    "num_networks = len(close_cent_students)\n",
    "\n",
    "for close_cent in close_cent_students:\n",
    "    for node, cent in close_cent.items():\n",
    "        if node not in average_centrality_students:\n",
    "            average_centrality_students[node] = 0\n",
    "        average_centrality_students[node] += cent\n",
    "\n",
    "# Average the centrality values\n",
    "for node in average_centrality_students:\n",
    "    average_centrality_students[node] /= num_networks\n",
    "\n",
    "# Extract the centrality values for nodes in the language network\n",
    "language_centrality_values = []\n",
    "student_centrality_values_lang = []\n",
    "\n",
    "for node, cent in close_cent_language.items():\n",
    "    if node in average_centrality_students:\n",
    "        language_centrality_values.append(cent)\n",
    "        student_centrality_values_lang.append(average_centrality_students[node])\n",
    "\n",
    "# Extract the centrality values for nodes in the border network\n",
    "border_centrality_values = []\n",
    "student_centrality_values_border = []\n",
    "\n",
    "for node, cent in close_cent_border.items():\n",
    "    if node in average_centrality_students:\n",
    "        border_centrality_values.append(cent)\n",
    "        student_centrality_values_border.append(average_centrality_students[node])\n",
    "\n",
    "# Calculate the Spearman correlation\n",
    "spearman_corr_lang, _ = stats.spearmanr(student_centrality_values_lang, language_centrality_values)\n",
    "spearman_corr_border, _ = stats.spearmanr(student_centrality_values_border, border_centrality_values)\n",
    "\n",
    "print(f\"Spearman Correlation between Student Network and Language Network Centrality: {spearman_corr_lang}\")\n",
    "print(f\"Spearman Correlation between Student Network and Border Network Centrality: {spearman_corr_border}\")\n"
   ]
  },
  {
   "cell_type": "code",
   "execution_count": 90,
   "metadata": {},
   "outputs": [
    {
     "name": "stdout",
     "output_type": "stream",
     "text": [
      "Spearman Correlation between Student Network and Language Network Centrality: 0.13997349973755227, p-value: 0.4019360312289897\n",
      "Spearman Correlation between Student Network and Border Network Centrality: 0.2984273115335929, p-value: 0.06877474113799502\n"
     ]
    }
   ],
   "source": [
    "spearman_corr_lang, p_value_lang = stats.spearmanr(student_centrality_values_lang, language_centrality_values)\n",
    "spearman_corr_border, p_value_border = stats.spearmanr(student_centrality_values_border, border_centrality_values)\n",
    "\n",
    "print(f\"Spearman Correlation between Student Network and Language Network Centrality: {spearman_corr_lang}, p-value: {p_value_lang}\")\n",
    "print(f\"Spearman Correlation between Student Network and Border Network Centrality: {spearman_corr_border}, p-value: {p_value_border}\")"
   ]
  },
  {
   "cell_type": "code",
   "execution_count": 91,
   "metadata": {},
   "outputs": [
    {
     "name": "stdout",
     "output_type": "stream",
     "text": [
      "Max Degree Centrality Node for Student Network in 2013: AUT, Degree Centrality: 1.891891891891892\n",
      "Max Degree Centrality Node for Student Network in 2014: AUT, Degree Centrality: 1.918918918918919\n",
      "Max Degree Centrality Node for Student Network in 2015: AUT, Degree Centrality: 1.891891891891892\n",
      "Max Degree Centrality Node for Student Network in 2016: AUT, Degree Centrality: 1.891891891891892\n",
      "Max Degree Centrality Node for Student Network in 2017: AUT, Degree Centrality: 1.891891891891892\n",
      "Max Degree Centrality Node for Student Network in 2018: AUT, Degree Centrality: 1.891891891891892\n",
      "Max Degree Centrality Node for Student Network in 2019: AUT, Degree Centrality: 1.891891891891892\n",
      "Max Degree Centrality Node for Student Network in 2020: AUT, Degree Centrality: 1.864864864864865\n",
      "Max Degree Centrality Node for Student Network in 2021: AUT, Degree Centrality: 1.864864864864865\n",
      "Max Degree Centrality Node for Student Network in 2022: AUT, Degree Centrality: 1.864864864864865\n",
      "Max Degree Centrality Node for Language Network: BEL, Degree Centrality: 0.40540540540540543\n",
      "Max Degree Centrality Node for Border Network: DEU, Degree Centrality: 0.24324324324324326\n"
     ]
    }
   ],
   "source": [
    "def find_max_node_degree(degree_dict):\n",
    "    max_node = max(degree_dict, key=degree_dict.get)\n",
    "    return max_node, degree_dict[max_node]\n",
    "\n",
    "for year, graph in zip(range(2013, 2023), students_graphs):\n",
    "    degree_cent = nx.degree_centrality(graph)\n",
    "    max_node, max_degree = find_max_node_degree(degree_cent)\n",
    "    print(f\"Max Degree Centrality Node for Student Network in {year}: {max_node}, Degree Centrality: {max_degree}\")\n",
    "\n",
    "# For language network\n",
    "degree_cent_language = nx.degree_centrality(language_graph)\n",
    "max_node_lang, max_degree_lang = find_max_node_degree(degree_cent_language)\n",
    "print(f\"Max Degree Centrality Node for Language Network: {max_node_lang}, Degree Centrality: {max_degree_lang}\")\n",
    "\n",
    "# For border network\n",
    "degree_cent_border = nx.degree_centrality(borders_graph)\n",
    "max_node_border, max_degree_border = find_max_node_degree(degree_cent_border)\n",
    "print(f\"Max Degree Centrality Node for Border Network: {max_node_border}, Degree Centrality: {max_degree_border}\")"
   ]
  },
  {
   "cell_type": "code",
   "execution_count": 92,
   "metadata": {},
   "outputs": [
    {
     "name": "stdout",
     "output_type": "stream",
     "text": [
      "Border Network Eigenvector Centrality: TUR \n",
      "\n",
      "---------------------------------\n",
      "Student Network Eigenvector Centrality for 2013: TUR\n",
      "---------------------------------\n",
      "Student Network Eigenvector Centrality for 2014: TUR\n",
      "---------------------------------\n",
      "Student Network Eigenvector Centrality for 2015: TUR\n",
      "---------------------------------\n",
      "Student Network Eigenvector Centrality for 2016: TUR\n",
      "---------------------------------\n",
      "Student Network Eigenvector Centrality for 2017: TUR\n",
      "---------------------------------\n",
      "Student Network Eigenvector Centrality for 2018: TUR\n",
      "---------------------------------\n",
      "Student Network Eigenvector Centrality for 2019: TUR\n",
      "---------------------------------\n",
      "Student Network Eigenvector Centrality for 2020: TUR\n",
      "---------------------------------\n",
      "Student Network Eigenvector Centrality for 2021: TUR\n",
      "---------------------------------\n",
      "Student Network Eigenvector Centrality for 2022: TUR\n"
     ]
    }
   ],
   "source": [
    "# eig_cent_language = nx.eigenvector_centrality(language_graph) NOTE: NOT IMPLEMENTED FOR MULTIGRAPHS\n",
    "eig_cent_border = nx.eigenvector_centrality(borders_graph)\n",
    "eig_cent_student = [nx.eigenvector_centrality(graph) for graph in students_graphs]\n",
    "\n",
    "# print(\"Language Network Eigenvector Centrality:\", max(eig_cent_language), '\\n')\n",
    "print(\"Border Network Eigenvector Centrality:\", max(eig_cent_border), '\\n')\n",
    "for i, year in enumerate(YEARS):\n",
    "    print('---------------------------------')\n",
    "    print(f\"Student Network Eigenvector Centrality for {year}:\",max(eig_cent_student[i]))"
   ]
  },
  {
   "cell_type": "code",
   "execution_count": 93,
   "metadata": {},
   "outputs": [
    {
     "name": "stdout",
     "output_type": "stream",
     "text": [
      "Language Network Community: frozenset({'BIH', 'MNE', 'BGR', 'ALB', 'HRV', 'CYP', 'TUR', 'SRB', 'GRC', 'MKD', 'SVN'})\n",
      "Language Network Community: frozenset({'LIE', 'GBR', 'MLT', 'AUT', 'NLD', 'DEU', 'NOR', 'IRL'})\n",
      "Language Network Community: frozenset({'FRA', 'BEL', 'ROU', 'ITA', 'ESP', 'CHE', 'PRT', 'LUX'})\n",
      "Language Network Community: frozenset({'FIN', 'HUN', 'EST'})\n",
      "Language Network Community: frozenset({'DNK', 'SWE', 'ISL'})\n",
      "Language Network Community: frozenset({'SVK', 'POL', 'CZE'})\n",
      "Language Network Community: frozenset({'LVA', 'LTU'})\n",
      "\n",
      "Border Network Community: frozenset({'LIE', 'DNK', 'FRA', 'AUT', 'BEL', 'DEU', 'ITA', 'NLD', 'CHE', 'SVN', 'LUX'})\n",
      "Border Network Community: frozenset({'BIH', 'MNE', 'BGR', 'ALB', 'HRV', 'ROU', 'TUR', 'SRB', 'GRC', 'MKD', 'HUN'})\n",
      "Border Network Community: frozenset({'LVA', 'SVK', 'CZE', 'LTU', 'POL', 'EST'})\n",
      "Border Network Community: frozenset({'NOR', 'SWE', 'FIN'})\n",
      "Border Network Community: frozenset({'ESP', 'PRT'})\n",
      "Border Network Community: frozenset({'GBR', 'IRL'})\n",
      "Border Network Community: frozenset({'CYP'})\n",
      "Border Network Community: frozenset({'ISL'})\n",
      "Border Network Community: frozenset({'MLT'})\n",
      "\n",
      "---------------------------------\n",
      "Student Network Community: frozenset({'LIE', 'GBR', 'DNK', 'MLT', 'AUT', 'BEL', 'TUR', 'LVA', 'CHE', 'GRC', 'FRA', 'SVK', 'FIN', 'CZE', 'LTU', 'DEU', 'ISL', 'NOR', 'IRL', 'HUN', 'PRT', 'EST'})\n",
      "\n",
      "Student Network Community: frozenset({'BIH', 'MNE', 'BGR', 'HRV', 'CYP', 'ITA', 'ESP', 'NLD', 'SRB', 'SVN', 'LUX', 'ALB', 'ROU', 'POL', 'SWE', 'MKD'})\n",
      "\n",
      "---------------------------------\n",
      "Student Network Community: frozenset({'LIE', 'GBR', 'DNK', 'MLT', 'AUT', 'BGR', 'BEL', 'CYP', 'ITA', 'LVA', 'HUN', 'ESP', 'NLD', 'GRC', 'LUX', 'FRA', 'SVK', 'FIN', 'CZE', 'LTU', 'POL', 'SWE', 'DEU', 'ISL', 'IRL', 'CHE', 'PRT', 'EST'})\n",
      "\n",
      "Student Network Community: frozenset({'BIH', 'MNE', 'ALB', 'ROU', 'HRV', 'NOR', 'TUR', 'SRB', 'MKD', 'SVN'})\n",
      "\n",
      "---------------------------------\n",
      "Student Network Community: frozenset({'LIE', 'DNK', 'GBR', 'MLT', 'AUT', 'BGR', 'ITA', 'LVA', 'NLD', 'GRC', 'LUX', 'FRA', 'SVK', 'FIN', 'CZE', 'LTU', 'ROU', 'POL', 'DEU', 'NOR', 'ISL', 'SWE', 'IRL', 'CHE', 'PRT', 'EST'})\n",
      "\n",
      "Student Network Community: frozenset({'BIH', 'MNE', 'ALB', 'HRV', 'TUR', 'ESP', 'SRB', 'MKD', 'HUN', 'SVN'})\n",
      "\n",
      "Student Network Community: frozenset({'CYP', 'BEL'})\n",
      "\n",
      "---------------------------------\n",
      "Student Network Community: frozenset({'LIE', 'DNK', 'GBR', 'MLT', 'AUT', 'BEL', 'CYP', 'ITA', 'LVA', 'ESP', 'NLD', 'CHE', 'LUX', 'FRA', 'SVK', 'FIN', 'CZE', 'LTU', 'ROU', 'POL', 'DEU', 'SWE', 'ISL', 'IRL', 'HUN', 'PRT', 'EST'})\n",
      "\n",
      "Student Network Community: frozenset({'BIH', 'BGR', 'ALB', 'MNE', 'HRV', 'NOR', 'TUR', 'SRB', 'GRC', 'MKD', 'SVN'})\n",
      "\n",
      "---------------------------------\n",
      "Student Network Community: frozenset({'LIE', 'DNK', 'GBR', 'MLT', 'AUT', 'BGR', 'BEL', 'CYP', 'ITA', 'TUR', 'LVA', 'ESP', 'NLD', 'CHE', 'GRC', 'LUX', 'FRA', 'SVK', 'FIN', 'CZE', 'LTU', 'ROU', 'POL', 'SWE', 'DEU', 'ISL', 'IRL', 'HUN', 'PRT', 'EST'})\n",
      "\n",
      "Student Network Community: frozenset({'BIH', 'MNE', 'ALB', 'HRV', 'NOR', 'SRB', 'MKD', 'SVN'})\n",
      "\n",
      "---------------------------------\n",
      "Student Network Community: frozenset({'LIE', 'GBR', 'DNK', 'BIH', 'AUT', 'BGR', 'MNE', 'BEL', 'HRV', 'ITA', 'TUR', 'ESP', 'NLD', 'SRB', 'GRC', 'SVN', 'LUX', 'FRA', 'ALB', 'ROU', 'SWE', 'DEU', 'MKD', 'CHE'})\n",
      "\n",
      "Student Network Community: frozenset({'SVK', 'MLT', 'CZE', 'FIN', 'LTU', 'POL', 'CYP', 'NOR', 'ISL', 'IRL', 'LVA', 'HUN', 'PRT', 'EST'})\n",
      "\n",
      "---------------------------------\n",
      "Student Network Community: frozenset({'LIE', 'DNK', 'GBR', 'BIH', 'AUT', 'BGR', 'MNE', 'BEL', 'HRV', 'ITA', 'TUR', 'ESP', 'NLD', 'SRB', 'GRC', 'SVN', 'LUX', 'FRA', 'SVK', 'ALB', 'ROU', 'DEU', 'MKD', 'CHE'})\n",
      "\n",
      "Student Network Community: frozenset({'MLT', 'CZE', 'FIN', 'LTU', 'POL', 'CYP', 'NOR', 'ISL', 'IRL', 'SWE', 'LVA', 'HUN', 'PRT', 'EST'})\n",
      "\n",
      "---------------------------------\n",
      "Student Network Community: frozenset({'AUT', 'CYP', 'ITA', 'LVA', 'NLD', 'FRA', 'SVK', 'CZE', 'LTU', 'DEU', 'HUN', 'CHE', 'LIE', 'DNK', 'MLT', 'BGR', 'BEL', 'HRV', 'TUR', 'ESP', 'SRB', 'GRC', 'LUX', 'FIN', 'ROU', 'SWE', 'POL', 'ISL', 'NOR', 'IRL', 'PRT', 'EST'})\n",
      "\n",
      "Student Network Community: frozenset({'GBR', 'BIH', 'MNE', 'ALB', 'MKD', 'SVN'})\n",
      "\n",
      "---------------------------------\n",
      "Student Network Community: frozenset({'LIE', 'GBR', 'DNK', 'MLT', 'AUT', 'BEL', 'CYP', 'LVA', 'ESP', 'NLD', 'CHE', 'SVN', 'LUX', 'FRA', 'SVK', 'FIN', 'CZE', 'LTU', 'ROU', 'POL', 'ISL', 'DEU', 'NOR', 'IRL', 'SWE', 'HUN', 'PRT', 'EST'})\n",
      "\n",
      "Student Network Community: frozenset({'BIH', 'BGR', 'MNE', 'ALB', 'HRV', 'ITA', 'TUR', 'SRB', 'GRC', 'MKD'})\n",
      "\n",
      "---------------------------------\n",
      "Student Network Community: frozenset({'LIE', 'DNK', 'MLT', 'AUT', 'BEL', 'HRV', 'CYP', 'ITA', 'LVA', 'HUN', 'ESP', 'NLD', 'SVN', 'LUX', 'FRA', 'SVK', 'CZE', 'FIN', 'LTU', 'ROU', 'POL', 'ISL', 'NOR', 'DEU', 'IRL', 'SWE', 'CHE', 'PRT', 'EST'})\n",
      "\n",
      "Student Network Community: frozenset({'GBR', 'BIH', 'BGR', 'MNE', 'ALB', 'TUR', 'SRB', 'GRC', 'MKD'})\n",
      "\n"
     ]
    }
   ],
   "source": [
    "communities_language = list(greedy_modularity_communities(language_graph))\n",
    "communities_border = list(greedy_modularity_communities(borders_graph))\n",
    "communities_student = [list(greedy_modularity_communities(graph)) for graph in students_graphs]\n",
    "\n",
    "for community in communities_language:\n",
    "    print(\"Language Network Community:\", community)\n",
    "\n",
    "print()\n",
    "\n",
    "for community in communities_border:\n",
    "    print(\"Border Network Community:\", community)\n",
    "\n",
    "print()\n",
    "\n",
    "for i, year in enumerate(YEARS):\n",
    "    print('---------------------------------')\n",
    "    for community in communities_student[i]:\n",
    "        print('Student Network Community:', community)\n",
    "        print()"
   ]
  },
  {
   "cell_type": "code",
   "execution_count": 94,
   "metadata": {},
   "outputs": [
    {
     "name": "stdout",
     "output_type": "stream",
     "text": [
      "Edge Overlap between Language and Border Networks: 0.2413793103448276\n"
     ]
    }
   ],
   "source": [
    "def edge_overlap(graph1, graph2):\n",
    "    edges1 = set(graph1.edges())\n",
    "    edges2 = set(graph2.edges())\n",
    "    common_edges = edges1.intersection(edges2)\n",
    "    total_edges = edges1.union(edges2)\n",
    "    return len(common_edges) / len(total_edges) if total_edges else 0\n",
    "\n",
    "overlap_language_border = edge_overlap(language_graph, borders_graph)\n",
    "print(\"Edge Overlap between Language and Border Networks:\", overlap_language_border)"
   ]
  },
  {
   "cell_type": "code",
   "execution_count": 95,
   "metadata": {},
   "outputs": [
    {
     "name": "stdout",
     "output_type": "stream",
     "text": [
      "Centrality Similarity between Language and Border Networks: 0.1789837113211809\n"
     ]
    }
   ],
   "source": [
    "def node_centrality_similarity(graph1, graph2, centrality_func):\n",
    "    centrality1 = centrality_func(graph1)\n",
    "    centrality2 = centrality_func(graph2)\n",
    "\n",
    "    common_nodes = set(centrality1.keys()).intersection(set(centrality2.keys()))\n",
    "\n",
    "    if not common_nodes:\n",
    "        return 0\n",
    "\n",
    "    vector1 = np.array([centrality1[node] for node in common_nodes])\n",
    "    vector2 = np.array([centrality2[node] for node in common_nodes])\n",
    "\n",
    "    correlation = np.corrcoef(vector1, vector2)[0, 1]\n",
    "    return correlation\n",
    "\n",
    "centrality_similarity = node_centrality_similarity(language_graph, borders_graph, nx.degree_centrality)\n",
    "print(\"Centrality Similarity between Language and Border Networks:\", centrality_similarity)\n"
   ]
  },
  {
   "cell_type": "code",
   "execution_count": 96,
   "metadata": {},
   "outputs": [
    {
     "name": "stdout",
     "output_type": "stream",
     "text": [
      "Mutual Information between Language and Border Networks: 0.7826084691003484\n"
     ]
    },
    {
     "name": "stderr",
     "output_type": "stream",
     "text": [
      "/Users/nedaelewa/anaconda3/lib/python3.10/site-packages/sklearn/metrics/cluster/_supervised.py:64: UserWarning:\n",
      "\n",
      "Clustering metrics expects discrete values but received continuous values for label, and continuous values for target\n",
      "\n"
     ]
    }
   ],
   "source": [
    "def mutual_information(graph1, graph2):\n",
    "    centrality1 = nx.degree_centrality(graph1)\n",
    "    centrality2 = nx.degree_centrality(graph2)\n",
    "\n",
    "    # Get common nodes\n",
    "    common_nodes = set(centrality1.keys()).intersection(set(centrality2.keys()))\n",
    "\n",
    "    if not common_nodes:\n",
    "        return 0\n",
    "\n",
    "    vector1 = [centrality1[node] for node in common_nodes]\n",
    "    vector2 = [centrality2[node] for node in common_nodes]\n",
    "\n",
    "    return mutual_info_score(vector1, vector2)\n",
    "\n",
    "mutual_info = mutual_information(language_graph, borders_graph)\n",
    "print(\"Mutual Information between Language and Border Networks:\", mutual_info)"
   ]
  },
  {
   "cell_type": "code",
   "execution_count": 97,
   "metadata": {},
   "outputs": [
    {
     "name": "stdout",
     "output_type": "stream",
     "text": [
      "Directed Edge Overlap between Student Flow and Language Networks: 0.1683760683760684\n"
     ]
    }
   ],
   "source": [
    "def directed_edge_overlap(directed_graph, undirected_graph):\n",
    "    directed_edges = set(directed_graph.edges())\n",
    "    undirected_edges = set()\n",
    "    for u, v in undirected_graph.edges():\n",
    "        undirected_edges.add((u, v))\n",
    "        undirected_edges.add((v, u))  # Add both directions for undirected edge\n",
    "\n",
    "    common_edges = directed_edges.intersection(undirected_edges)\n",
    "    total_edges = directed_edges.union(undirected_edges)\n",
    "    return len(common_edges) / len(total_edges) if total_edges else 0\n",
    "\n",
    "overlap = directed_edge_overlap(students_graphs[0], language_graph)\n",
    "print(\"Directed Edge Overlap between Student Flow and Language Networks:\", overlap)"
   ]
  },
  {
   "cell_type": "code",
   "execution_count": 98,
   "metadata": {},
   "outputs": [
    {
     "name": "stdout",
     "output_type": "stream",
     "text": [
      "Normalized Mutual Information (NMI) between Language and Student Network Communities: 0.005845263561664977\n"
     ]
    }
   ],
   "source": [
    "node_to_index = {node: idx for idx, node in enumerate(nodes)}\n",
    "\n",
    "def community_to_labels(communities, num_nodes):\n",
    "    labels = [-1] * num_nodes\n",
    "    for label, community in enumerate(communities):\n",
    "        for node in community:\n",
    "            labels[node_to_index[node]] = label\n",
    "            return labels\n",
    "\n",
    "num_nodes = max(len(language_graph.nodes()), len(students_graphs[0].nodes()))\n",
    "\n",
    "language_labels = community_to_labels(communities_language, num_nodes)\n",
    "student_labels = community_to_labels(communities_student[0], num_nodes)\n",
    "\n",
    "nmi_score = normalized_mutual_info_score(language_labels, student_labels)\n",
    "print(\"Normalized Mutual Information (NMI) between Language and Student Network Communities:\", nmi_score)"
   ]
  },
  {
   "cell_type": "code",
   "execution_count": 99,
   "metadata": {},
   "outputs": [
    {
     "name": "stdout",
     "output_type": "stream",
     "text": [
      "Language: Albanian, Countries: ['ALB', 'MKD']\n",
      "Language: German, Countries: ['AUT', 'BEL', 'CHE', 'DEU', 'LUX', 'LIE']\n",
      "Language: Dutch, Countries: ['BEL', 'NLD']\n",
      "Language: French, Countries: ['BEL', 'CHE', 'FRA', 'LUX']\n",
      "Language: Italian, Countries: ['CHE', 'ITA']\n",
      "Language: Greek, Countries: ['CYP', 'GRC']\n",
      "Language: Turkish, Countries: ['CYP', 'TUR']\n",
      "Language: Croatian, Countries: ['HRV', 'BIH']\n",
      "Language: Serbian, Countries: ['SRB', 'BIH']\n",
      "Language: English, Countries: ['GBR', 'MLT', 'IRL']\n"
     ]
    }
   ],
   "source": [
    "family_country_map = dict()\n",
    "\n",
    "for edge in language_edges:\n",
    "    if edge['family'] not in family_country_map:\n",
    "        family_country_map[edge['family']] = []\n",
    "    if edge['source'] not in family_country_map[edge['family']]:\n",
    "        family_country_map[edge['family']].append(edge['source'])\n",
    "    if edge['target'] not in family_country_map[edge['family']]:\n",
    "        family_country_map[edge['family']].append(edge['target'])\n",
    "\n",
    "for language, countries in language_to_country.items():\n",
    "    if len(countries) > 1:\n",
    "        print(f\"Language: {language}, Countries: {countries}\")\n",
    "\n",
    "def separate_edges(edges, countries):\n",
    "    edges_intra =  [[] for i in range(len(YEARS))]\n",
    "    edges_inter = [[] for i in range(len(YEARS))]\n",
    "    \n",
    "    for i in range(len(YEARS)):\n",
    "        for edge in edges[i]:\n",
    "            if edge['origin'] in countries and edge['destination'] in countries:\n",
    "                edges_intra[i].append(edge)\n",
    "            elif (edge['origin'] not in countries) and (edge['destination'] in countries):\n",
    "                edges_inter[i].append(edge)\n",
    "    \n",
    "    return edges_intra, edges_inter\n",
    "\n",
    "indo_european_speaking_intra, indo_european_speaking_inter = separate_edges(edges_total, family_country_map['Indo-European'])\n",
    "nordic_intra, nordic_inter = separate_edges(edges_total, ['DNK', 'FIN', 'ISL', 'NOR', 'SWE'])\n",
    "south_slavic_speaking_intra, south_slavic_speaking_inter = separate_edges(edges_total, family_country_map['South Slavik'])\n",
    "turkic_speaking_intra, turkic_speaking_inter = separate_edges(edges_total, family_country_map['Turkic'])\n",
    "west_germanic_speaking_intra, west_germanic_speaking_inter = separate_edges(edges_total, family_country_map['West Germanic'])\n",
    "romance_speaking_intra, romance_speaking_inter = separate_edges(edges_total, family_country_map['Romance'])\n",
    "west_slavic_speaking_intra, west_slavic_speaking_inter = separate_edges(edges_total, family_country_map['West Slavic'])\n",
    "north_germanic_speaking_intra, north_germanic_speaking_inter = separate_edges(edges_total, family_country_map['North Germanic'])\n",
    "uralic_speaking_intra, uralic_speaking_inter = separate_edges(edges_total, family_country_map['Uralic'])\n",
    "baltic_speaking_intra, baltic_speaking_inter = separate_edges(edges_total, family_country_map['Baltic'])\n",
    "albanian_speaking_intra, albanian_speaking_inter = separate_edges(edges_total, language_to_country['Albanian'])\n",
    "german_speaking_intra, german_speaking_inter = separate_edges(edges_total, language_to_country['German'])\n",
    "dutch_speaking_intra, dutch_speaking_inter = separate_edges(edges_total, language_to_country['Dutch'])\n",
    "french_speaking_intra, french_speaking_inter = separate_edges(edges_total, language_to_country['French'])\n",
    "italian_speaking_intra, italian_speaking_inter = separate_edges(edges_total, language_to_country['Italian'])\n",
    "greek_speaking_intra, greek_speaking_inter = separate_edges(edges_total, language_to_country['Greek'])\n",
    "turkish_speaking_intra, turkish_speaking_inter = separate_edges(edges_total, language_to_country['Turkish'])\n",
    "croatian_speaking_intra, croatian_speaking_inter = separate_edges(edges_total, language_to_country['Croatian'])\n",
    "serbian_speaking_intra, serbian_speaking_inter = separate_edges(edges_total, language_to_country['Serbian'])\n",
    "english_speaking_intra, english_speaking_inter = separate_edges(edges_total, language_to_country['English'])"
   ]
  },
  {
   "cell_type": "code",
   "execution_count": 100,
   "metadata": {},
   "outputs": [],
   "source": [
    "def get_proportions(inter, intra, countires):\n",
    "    # structure of the tuple (same language students, different language students)\n",
    "    proportions = {country : (0, 0) for country in countires} # Country is destination\n",
    "    \n",
    "    for edge in intra:\n",
    "        value = edge['value']\n",
    "        proportions[edge['destination']] =  (proportions[edge['destination']][0] + value, proportions[edge['destination']][1])\n",
    "    \n",
    "    for edge in inter:\n",
    "        value = edge['value']\n",
    "        proportions[edge['destination']] = (proportions[edge['destination']][0] , proportions[edge['destination']][1] + value)\n",
    "    \n",
    "    return proportions\n",
    "\n",
    "german_proportions = [get_proportions(german_speaking_inter[i], german_speaking_intra[i], language_to_country['German']) for i in range(len(YEARS))]\n",
    "nordic_proportions = [get_proportions(nordic_inter[i], nordic_intra[i], ['DNK', 'FIN', 'ISL', 'NOR', 'SWE']) for i in range(len(YEARS))]\n",
    "dutch_proportions = [get_proportions(dutch_speaking_inter[i], dutch_speaking_intra[i], language_to_country['Dutch']) for i in range(len(YEARS))]\n",
    "french_proportions = [get_proportions(french_speaking_inter[i], french_speaking_intra[i], language_to_country['French']) for i in range(len(YEARS))]\n",
    "italian_proportions = [get_proportions(italian_speaking_inter[i], italian_speaking_intra[i], language_to_country['Italian']) for i in range(len(YEARS))]\n",
    "greek_proportions = [get_proportions(greek_speaking_inter[i], greek_speaking_intra[i], language_to_country['Greek']) for i in range(len(YEARS))]\n",
    "turkish_proportions = [get_proportions(turkish_speaking_inter[i], turkish_speaking_intra[i], language_to_country['Turkish']) for i in range(len(YEARS))]\n",
    "croatian_proportions = [get_proportions(croatian_speaking_inter[i], croatian_speaking_intra[i], language_to_country['Croatian']) for i in range(len(YEARS))]\n",
    "serbian_proportions = [get_proportions(serbian_speaking_inter[i], serbian_speaking_intra[i], language_to_country['Serbian']) for i in range(len(YEARS))]\n",
    "english_proportions = [get_proportions(english_speaking_inter[i], english_speaking_intra[i], language_to_country['English']) for i in range(len(YEARS))]\n",
    "indo_european_proportions = [get_proportions(indo_european_speaking_inter[i], indo_european_speaking_intra[i], family_country_map['Indo-European']) for i in range(len(YEARS))]\n",
    "south_slavic_proportions = [get_proportions(south_slavic_speaking_inter[i], south_slavic_speaking_intra[i], family_country_map['South Slavik']) for i in range(len(YEARS))]\n",
    "turkic_proportions = [get_proportions(turkic_speaking_inter[i], turkic_speaking_intra[i], family_country_map['Turkic']) for i in range(len(YEARS))]\n",
    "west_germanic_proportions = [get_proportions(west_germanic_speaking_inter[i], west_germanic_speaking_intra[i], family_country_map['West Germanic']) for i in range(len(YEARS))]\n",
    "romance_proportions = [get_proportions(romance_speaking_inter[i], romance_speaking_intra[i], family_country_map['Romance']) for i in range(len(YEARS))]\n",
    "west_slavic_proportions = [get_proportions(west_slavic_speaking_inter[i], west_slavic_speaking_intra[i], family_country_map['West Slavic']) for i in range(len(YEARS))]\n",
    "north_germanic_proportions = [get_proportions(north_germanic_speaking_inter[i], north_germanic_speaking_intra[i], family_country_map['North Germanic']) for i in range(len(YEARS))]\n",
    "uralic_proportions = [get_proportions(uralic_speaking_inter[i], uralic_speaking_intra[i], family_country_map['Uralic']) for i in range(len(YEARS))]\n",
    "baltic_proportions = [get_proportions(baltic_speaking_inter[i], baltic_speaking_intra[i], family_country_map['Baltic']) for i in range(len(YEARS))]\n",
    "albanian_proportions = [get_proportions(albanian_speaking_inter[i], albanian_speaking_intra[i], language_to_country['Albanian']) for i in range(len(YEARS))]"
   ]
  },
  {
   "cell_type": "code",
   "execution_count": 101,
   "metadata": {},
   "outputs": [
    {
     "name": "stdout",
     "output_type": "stream",
     "text": [
      "[(85780, 4555), (51448, 5301), (119484, 90729), (52547, 4707), (51972, 3544), (44354, 1133), (49746, 4027), (54847, 5074), (56840, 5486), (58560, 6110)]\n",
      "[(111932, 15264), (58198, 12062), (59628, 12446), (60668, 12958), (61682, 13256), (62420, 13602), (63752, 13704), (66038, 14052), (69670, 14796), (72774, 15764)]\n",
      "[(8960, -305), (4524, 177), (4706, 335), (4687, 459), (4765, 419), (4340, 685), (4290, 693), (4290, 814), (4372, 970), (4359, 1096)]\n"
     ]
    }
   ],
   "source": [
    "belgium_proportions = [(0,0) for _ in range(10)]\n",
    "swiss_proportions = [(0,0) for _ in range(10)]\n",
    "lux_proportions = [(0,0) for _ in range(10)]\n",
    "\n",
    "for i in range(10):\n",
    "    \n",
    "    if i != 2:\n",
    "        bel_intra = french_proportions[i]['BEL'][0] + german_proportions[i]['BEL'][0] + dutch_proportions[i]['BEL'][0]\n",
    "        bel_inter = (french_proportions[i]['BEL'][0] + french_proportions[i]['BEL'][1]) - bel_intra # total students - intra\n",
    "\n",
    "    if i == 2:\n",
    "        bel_intra = french_proportions[i]['BEL'][1] + german_proportions[i]['BEL'][1] + dutch_proportions[i]['BEL'][1]\n",
    "        bel_inter = (french_proportions[i]['BEL'][1] + french_proportions[i]['BEL'][0]) - bel_intra # total students - intra\n",
    "\n",
    "    swiss_intra = french_proportions[i]['CHE'][0] + german_proportions[i]['CHE'][0] + italian_proportions[i]['CHE'][0]\n",
    "    swiss_inter = (french_proportions[i]['CHE'][0] + french_proportions[i]['CHE'][1]) - swiss_intra\n",
    "\n",
    "    lux_intra = french_proportions[i]['LUX'][0] + german_proportions[i]['LUX'][0]\n",
    "    lux_inter = (french_proportions[i]['LUX'][0] + french_proportions[i]['LUX'][1]) - lux_intra\n",
    "\n",
    "    bih_intra = serbian_proportions[i]['BIH'][0] + croatian_proportions[i]['BIH'][0]\n",
    "    bih_inter = (serbian_proportions[i]['BIH'][0] + serbian_proportions[i]['BIH'][1]) - bih_intra\n",
    "\n",
    "    belgium_proportions[i] = (bel_intra, bel_inter)\n",
    "    swiss_proportions[i] = (swiss_intra, swiss_inter)\n",
    "    lux_proportions[i] = (lux_intra, lux_inter)\n",
    "\n",
    "print(belgium_proportions)\n",
    "print(swiss_proportions)\n",
    "print(lux_proportions)\n"
   ]
  },
  {
   "cell_type": "code",
   "execution_count": 102,
   "metadata": {},
   "outputs": [],
   "source": [
    "proportions = [german_proportions, dutch_proportions, french_proportions, italian_proportions, greek_proportions, turkish_proportions, croatian_proportions, serbian_proportions, english_proportions, indo_european_proportions, south_slavic_proportions, turkic_proportions, west_germanic_proportions, romance_proportions, west_slavic_proportions, north_germanic_proportions, uralic_proportions, baltic_proportions, albanian_proportions, nordic_proportions]\n",
    "labels = ['German', 'Dutch', 'French', 'Italian', 'Greek', 'Turkish', 'Croatian', 'Serbian', 'English', 'Indo-European', 'South Slavic', 'Turkic', 'West Germanic', 'Romance', 'West Slavic', 'North Germanic', 'Uralic', 'Baltic', 'Albanian', 'Nordic']"
   ]
  },
  {
   "cell_type": "code",
   "execution_count": 103,
   "metadata": {},
   "outputs": [],
   "source": [
    "def calculate_average_proportions(data):\n",
    "    same_language_totals = {}\n",
    "    different_language_totals = {}\n",
    "    for year_data in data:\n",
    "        for country, (same_language, different_language) in year_data.items():\n",
    "            if country not in same_language_totals:\n",
    "                same_language_totals[country] = 0\n",
    "                different_language_totals[country] = 0\n",
    "            same_language_totals[country] += same_language\n",
    "            different_language_totals[country] += different_language\n",
    "\n",
    "    average_proportions_same = {}\n",
    "    average_proportions_different = {}\n",
    "    for country in same_language_totals:\n",
    "        total_students = same_language_totals[country] + different_language_totals[country]\n",
    "        if total_students > 0:\n",
    "            average_proportions_same[country] = same_language_totals[country] / total_students\n",
    "            average_proportions_different[country] = different_language_totals[country] / total_students\n",
    "\n",
    "    return average_proportions_same, average_proportions_different\n",
    "\n",
    "# Define a color palette\n",
    "palette = sns.color_palette(\"Set2\")\n",
    "\n",
    "# Plotting the proportions in different subplots\n",
    "def plot_group(proportions_group, labels_group, filename):\n",
    "    num_plots = len(proportions_group)\n",
    "    cols = 3\n",
    "    rows = (num_plots // cols) + (1 if num_plots % cols else 0)\n",
    "    fig, axes = plt.subplots(rows, cols, figsize=(20, 15))\n",
    "    axes = axes.flatten()\n",
    "\n",
    "    for i, (data, label) in enumerate(zip(proportions_group, labels_group)):\n",
    "        if data:\n",
    "            average_proportions_same, average_proportions_different = calculate_average_proportions(data)\n",
    "            countries = list(average_proportions_same.keys())\n",
    "            proportions_same = [average_proportions_same[country] for country in countries]\n",
    "            proportions_different = [average_proportions_different[country] for country in countries]\n",
    "\n",
    "            bar_width = 0.35\n",
    "            index = np.arange(len(countries))\n",
    "            \n",
    "            bars_same = axes[i].bar(index, proportions_same, bar_width, label='Intra', color=palette[1])\n",
    "            bars_different = axes[i].bar(index + bar_width, proportions_different, bar_width, label='Inter', color=palette[0])\n",
    "            \n",
    "            axes[i].set_xlabel('Country')\n",
    "            axes[i].set_ylabel('Average Proportion of Students')\n",
    "            axes[i].set_title(f'{label} - Average Proportions')\n",
    "            axes[i].set_xticks(index + bar_width / 2)\n",
    "            axes[i].set_xticklabels(countries)\n",
    "            axes[i].set_ylim(0, 1)\n",
    "            axes[i].legend()\n",
    "\n",
    "            # Add values on top of bars\n",
    "            for bar in bars_same:\n",
    "                height = bar.get_height()\n",
    "                axes[i].annotate(f'{height:.2f}', xy=(bar.get_x() + bar.get_width() / 2, height),\n",
    "                                 xytext=(0, 3), textcoords='offset points', ha='center', va='bottom')\n",
    "\n",
    "            for bar in bars_different:\n",
    "                height = bar.get_height()\n",
    "                axes[i].annotate(f'{height:.2f}', xy=(bar.get_x() + bar.get_width() / 2, height),\n",
    "                                 xytext=(0, 3), textcoords='offset points', ha='center', va='bottom')\n",
    "\n",
    "    # Hide empty subplots\n",
    "    for j in range(i + 1, len(axes)):\n",
    "        fig.delaxes(axes[j])\n",
    "\n",
    "    plt.tight_layout()\n",
    "    plt.savefig(filename, format='pdf')\n",
    "    plt.close()\n",
    "\n",
    "# Plotting the groups and saving to files\n",
    "plot_group(proportions[:9], labels[:9], 'group1_german_to_english.pdf')\n",
    "plot_group(proportions[9:18], labels[9:18], 'group2_indo_european_to_baltic.pdf')\n",
    "plot_group(proportions[18:], labels[18:], 'group3_nordic.pdf')"
   ]
  },
  {
   "cell_type": "code",
   "execution_count": 104,
   "metadata": {},
   "outputs": [
    {
     "data": {
      "image/png": "[encoded data removed]",
      "text/plain": [
       "<Figure size 1000x500 with 1 Axes>"
      ]
     },
     "metadata": {},
     "output_type": "display_data"
    }
   ],
   "source": [
    "data = []\n",
    "for i in range(10):\n",
    "    year_data = {\n",
    "        'BEL': belgium_proportions[i],\n",
    "        'CHE': swiss_proportions[i],\n",
    "        'LUX': lux_proportions[i]\n",
    "    }\n",
    "    data.append(year_data)\n",
    "\n",
    "average_proportions_same, average_proportions_different = calculate_average_proportions(data)\n",
    "\n",
    "# Plotting the results\n",
    "fig, ax = plt.subplots(figsize=(10, 5))\n",
    "\n",
    "countries = list(average_proportions_same.keys())\n",
    "intra_avg = [average_proportions_same[country] for country in countries]\n",
    "inter_avg = [average_proportions_different[country] for country in countries]\n",
    "\n",
    "bar_width = 0.35\n",
    "index = range(len(countries))\n",
    "\n",
    "palette = sns.color_palette(\"Set2\")\n",
    "\n",
    "bar2 = plt.bar([i + bar_width for i in index], inter_avg, bar_width, label='Same language', color=palette[1])\n",
    "bar1 = plt.bar(index, intra_avg, bar_width, label='Different language', color=palette[0])\n",
    "\n",
    "plt.xlabel('Countries')\n",
    "plt.ylabel('Average Proportions')\n",
    "plt.title('Inter- and Intra- Exchange of Students Among Multilingual Countries')\n",
    "plt.xticks([i + bar_width / 2 for i in index], countries)\n",
    "plt.legend()\n",
    "\n",
    "for bar in bar1:\n",
    "    height = bar.get_height()\n",
    "    plt.text(bar.get_x() + bar.get_width() / 2.0, height, f'{height:.2f}', ha='center', va='bottom')\n",
    "    \n",
    "for bar in bar2:\n",
    "    height = bar.get_height()\n",
    "    plt.text(bar.get_x() + bar.get_width() / 2.0, height, f'{height:.2f}', ha='center', va='bottom')\n",
    "\n",
    "plt.savefig('multilingual_countries.pdf', format='pdf')\n",
    "plt.tight_layout()\n",
    "plt.show()"
   ]
  },
  {
   "cell_type": "code",
   "execution_count": 106,
   "metadata": {},
   "outputs": [
    {
     "name": "stdout",
     "output_type": "stream",
     "text": [
      "Generated random network 1 for year 2013\n",
      "Generated random network 2 for year 2013\n",
      "Generated random network 3 for year 2013\n",
      "Generated random network 4 for year 2013\n",
      "Generated random network 5 for year 2013\n",
      "Generated random network 6 for year 2013\n",
      "Generated random network 7 for year 2013\n",
      "Generated random network 8 for year 2013\n",
      "Generated random network 9 for year 2013\n",
      "Generated random network 10 for year 2013\n",
      "Generated random network 11 for year 2013\n",
      "Generated random network 12 for year 2013\n",
      "Generated random network 13 for year 2013\n",
      "Generated random network 14 for year 2013\n",
      "Generated random network 15 for year 2013\n",
      "Generated random network 16 for year 2013\n",
      "Generated random network 17 for year 2013\n",
      "Generated random network 18 for year 2013\n",
      "Generated random network 19 for year 2013\n",
      "Generated random network 20 for year 2013\n",
      "Finished generating random networks for year 2013\n",
      "Generated random network 1 for year 2014\n",
      "Generated random network 2 for year 2014\n",
      "Generated random network 3 for year 2014\n",
      "Generated random network 4 for year 2014\n",
      "Generated random network 5 for year 2014\n",
      "Generated random network 6 for year 2014\n",
      "Generated random network 7 for year 2014\n",
      "Generated random network 8 for year 2014\n",
      "Generated random network 9 for year 2014\n",
      "Generated random network 10 for year 2014\n",
      "Generated random network 11 for year 2014\n",
      "Generated random network 12 for year 2014\n",
      "Generated random network 13 for year 2014\n",
      "Generated random network 14 for year 2014\n",
      "Generated random network 15 for year 2014\n",
      "Generated random network 16 for year 2014\n",
      "Generated random network 17 for year 2014\n",
      "Generated random network 18 for year 2014\n",
      "Generated random network 19 for year 2014\n",
      "Generated random network 20 for year 2014\n",
      "Finished generating random networks for year 2014\n",
      "Generated random network 1 for year 2015\n",
      "Generated random network 2 for year 2015\n",
      "Generated random network 3 for year 2015\n",
      "Generated random network 4 for year 2015\n",
      "Generated random network 5 for year 2015\n",
      "Generated random network 6 for year 2015\n",
      "Generated random network 7 for year 2015\n",
      "Generated random network 8 for year 2015\n",
      "Generated random network 9 for year 2015\n",
      "Generated random network 10 for year 2015\n",
      "Generated random network 11 for year 2015\n",
      "Generated random network 12 for year 2015\n",
      "Generated random network 13 for year 2015\n",
      "Generated random network 14 for year 2015\n",
      "Generated random network 15 for year 2015\n",
      "Generated random network 16 for year 2015\n",
      "Generated random network 17 for year 2015\n",
      "Generated random network 18 for year 2015\n",
      "Generated random network 19 for year 2015\n",
      "Generated random network 20 for year 2015\n",
      "Finished generating random networks for year 2015\n",
      "Generated random network 1 for year 2016\n",
      "Generated random network 2 for year 2016\n",
      "Generated random network 3 for year 2016\n",
      "Generated random network 4 for year 2016\n",
      "Generated random network 5 for year 2016\n",
      "Generated random network 6 for year 2016\n",
      "Generated random network 7 for year 2016\n",
      "Generated random network 8 for year 2016\n",
      "Generated random network 9 for year 2016\n",
      "Generated random network 10 for year 2016\n",
      "Generated random network 11 for year 2016\n",
      "Generated random network 12 for year 2016\n",
      "Generated random network 13 for year 2016\n",
      "Generated random network 14 for year 2016\n",
      "Generated random network 15 for year 2016\n",
      "Generated random network 16 for year 2016\n",
      "Generated random network 17 for year 2016\n",
      "Generated random network 18 for year 2016\n",
      "Generated random network 19 for year 2016\n",
      "Generated random network 20 for year 2016\n",
      "Finished generating random networks for year 2016\n",
      "Generated random network 1 for year 2017\n",
      "Generated random network 2 for year 2017\n",
      "Generated random network 3 for year 2017\n",
      "Generated random network 4 for year 2017\n",
      "Generated random network 5 for year 2017\n",
      "Generated random network 6 for year 2017\n",
      "Generated random network 7 for year 2017\n",
      "Generated random network 8 for year 2017\n",
      "Generated random network 9 for year 2017\n",
      "Generated random network 10 for year 2017\n",
      "Generated random network 11 for year 2017\n",
      "Generated random network 12 for year 2017\n",
      "Generated random network 13 for year 2017\n",
      "Generated random network 14 for year 2017\n",
      "Generated random network 15 for year 2017\n",
      "Generated random network 16 for year 2017\n",
      "Generated random network 17 for year 2017\n",
      "Generated random network 18 for year 2017\n",
      "Generated random network 19 for year 2017\n",
      "Generated random network 20 for year 2017\n",
      "Finished generating random networks for year 2017\n",
      "Generated random network 1 for year 2018\n",
      "Generated random network 2 for year 2018\n",
      "Generated random network 3 for year 2018\n",
      "Generated random network 4 for year 2018\n",
      "Generated random network 5 for year 2018\n",
      "Generated random network 6 for year 2018\n",
      "Generated random network 7 for year 2018\n",
      "Generated random network 8 for year 2018\n",
      "Generated random network 9 for year 2018\n",
      "Generated random network 10 for year 2018\n",
      "Generated random network 11 for year 2018\n",
      "Generated random network 12 for year 2018\n",
      "Generated random network 13 for year 2018\n",
      "Generated random network 14 for year 2018\n",
      "Generated random network 15 for year 2018\n",
      "Generated random network 16 for year 2018\n",
      "Generated random network 17 for year 2018\n",
      "Generated random network 18 for year 2018\n",
      "Generated random network 19 for year 2018\n",
      "Generated random network 20 for year 2018\n",
      "Finished generating random networks for year 2018\n",
      "Generated random network 1 for year 2019\n",
      "Generated random network 2 for year 2019\n",
      "Generated random network 3 for year 2019\n",
      "Generated random network 4 for year 2019\n",
      "Generated random network 5 for year 2019\n",
      "Generated random network 6 for year 2019\n",
      "Generated random network 7 for year 2019\n",
      "Generated random network 8 for year 2019\n",
      "Generated random network 9 for year 2019\n",
      "Generated random network 10 for year 2019\n",
      "Generated random network 11 for year 2019\n",
      "Generated random network 12 for year 2019\n",
      "Generated random network 13 for year 2019\n",
      "Generated random network 14 for year 2019\n",
      "Generated random network 15 for year 2019\n",
      "Generated random network 16 for year 2019\n",
      "Generated random network 17 for year 2019\n",
      "Generated random network 18 for year 2019\n",
      "Generated random network 19 for year 2019\n",
      "Generated random network 20 for year 2019\n",
      "Finished generating random networks for year 2019\n",
      "Generated random network 1 for year 2020\n",
      "Generated random network 2 for year 2020\n",
      "Generated random network 3 for year 2020\n",
      "Generated random network 4 for year 2020\n",
      "Generated random network 5 for year 2020\n",
      "Generated random network 6 for year 2020\n",
      "Generated random network 7 for year 2020\n",
      "Generated random network 8 for year 2020\n",
      "Generated random network 9 for year 2020\n",
      "Generated random network 10 for year 2020\n",
      "Generated random network 11 for year 2020\n",
      "Generated random network 12 for year 2020\n",
      "Generated random network 13 for year 2020\n",
      "Generated random network 14 for year 2020\n",
      "Generated random network 15 for year 2020\n",
      "Generated random network 16 for year 2020\n",
      "Generated random network 17 for year 2020\n",
      "Generated random network 18 for year 2020\n",
      "Generated random network 19 for year 2020\n",
      "Generated random network 20 for year 2020\n",
      "Finished generating random networks for year 2020\n",
      "Generated random network 1 for year 2021\n",
      "Generated random network 2 for year 2021\n",
      "Generated random network 3 for year 2021\n",
      "Generated random network 4 for year 2021\n",
      "Generated random network 5 for year 2021\n",
      "Generated random network 6 for year 2021\n",
      "Generated random network 7 for year 2021\n",
      "Generated random network 8 for year 2021\n",
      "Generated random network 9 for year 2021\n",
      "Generated random network 10 for year 2021\n",
      "Generated random network 11 for year 2021\n",
      "Generated random network 12 for year 2021\n",
      "Generated random network 13 for year 2021\n",
      "Generated random network 14 for year 2021\n",
      "Generated random network 15 for year 2021\n",
      "Generated random network 16 for year 2021\n",
      "Generated random network 17 for year 2021\n",
      "Generated random network 18 for year 2021\n",
      "Generated random network 19 for year 2021\n",
      "Generated random network 20 for year 2021\n",
      "Finished generating random networks for year 2021\n",
      "Generated random network 1 for year 2022\n",
      "Generated random network 2 for year 2022\n",
      "Generated random network 3 for year 2022\n",
      "Generated random network 4 for year 2022\n",
      "Generated random network 5 for year 2022\n",
      "Generated random network 6 for year 2022\n",
      "Generated random network 7 for year 2022\n",
      "Generated random network 8 for year 2022\n",
      "Generated random network 9 for year 2022\n",
      "Generated random network 10 for year 2022\n",
      "Generated random network 11 for year 2022\n",
      "Generated random network 12 for year 2022\n",
      "Generated random network 13 for year 2022\n",
      "Generated random network 14 for year 2022\n",
      "Generated random network 15 for year 2022\n",
      "Generated random network 16 for year 2022\n",
      "Generated random network 17 for year 2022\n",
      "Generated random network 18 for year 2022\n",
      "Generated random network 19 for year 2022\n",
      "Generated random network 20 for year 2022\n",
      "Finished generating random networks for year 2022\n"
     ]
    }
   ],
   "source": [
    "def generate_random_network(n, l, weight_range):\n",
    "    G = nx.DiGraph()\n",
    "\n",
    "    G.add_nodes_from(range(n))\n",
    "\n",
    "    max_possible_edges = n * (n - 1)\n",
    "    if l > max_possible_edges:\n",
    "        raise ValueError(f\"The number of edges {l} exceeds the maximum possible edges {max_possible_edges} for {n} nodes.\")\n",
    "    \n",
    "    while G.number_of_edges() < l:\n",
    "        node1 = random.randint(0, n-1)\n",
    "        node2 = random.randint(0, n-1)\n",
    "\n",
    "        if node1 != node2 and not G.has_edge(node1, node2):\n",
    "            weight = random.uniform(weight_range[0], weight_range[1])\n",
    "            G.add_edge(node1, node2, weight=weight)\n",
    "\n",
    "    return G\n",
    "\n",
    "\n",
    "random_networks = [[] for i in range(len(YEARS))]  # List of random networks for each year\n",
    "\n",
    "for i, year in enumerate(YEARS):\n",
    "    for j in range(20):  # Generate 20 random networks for each year\n",
    "        random_networks[i].append(generate_random_network(len(students_graphs[i].nodes), len(students_graphs[i].edges), (0, 1))) # Normalized weights\n",
    "        print(f'Generated random network {j+1} for year {year}')\n",
    "    print('Finished generating random networks for year', year)\n"
   ]
  },
  {
   "cell_type": "code",
   "execution_count": 107,
   "metadata": {},
   "outputs": [
    {
     "name": "stdout",
     "output_type": "stream",
     "text": [
      "[2, 3, 4, 6, 7, 8, 11]\n"
     ]
    }
   ],
   "source": [
    "ranodm_nodes = [i for i in range(37)]\n",
    "\n",
    "cohort_sizes = [len(value) for value in language_to_country.values() if len(value) > 1]\n",
    "\n",
    "for key, value in family_country_map.items():\n",
    "    if len(value) > 1:\n",
    "        cohort_sizes.append(len(value))\n",
    "\n",
    "cohort_sizes = list(set(cohort_sizes))\n",
    "print(cohort_sizes)"
   ]
  },
  {
   "cell_type": "code",
   "execution_count": 108,
   "metadata": {},
   "outputs": [
    {
     "name": "stdout",
     "output_type": "stream",
     "text": [
      "[[33, 36], [7, 22, 19], [3, 19, 1, 25], [0, 26, 23, 16, 15, 19], [6, 16, 4, 36, 10, 29, 27], [14, 25, 33, 31, 30, 9, 34, 28], [32, 31, 28, 20, 2, 21, 29, 24, 0, 35, 7]]\n"
     ]
    }
   ],
   "source": [
    "cohorts = [[] for _ in range(len(cohort_sizes))]\n",
    "\n",
    "for i, size in enumerate(cohort_sizes):\n",
    "    for j in range(size):\n",
    "        \n",
    "        while(True):\n",
    "            node = random.choice(ranodm_nodes)\n",
    "            if node not in cohorts[i]:\n",
    "                cohorts[i].append(node)\n",
    "                break\n",
    "\n",
    "print(cohorts)"
   ]
  },
  {
   "cell_type": "code",
   "execution_count": 109,
   "metadata": {},
   "outputs": [],
   "source": [
    "random_network_edges = [[[] for _ in range(20)] for i in range(len(YEARS))]\n",
    "\n",
    "for i, year in enumerate(YEARS):\n",
    "    for j in range(20):\n",
    "        network = random_networks[i][j]\n",
    "        for edge in list(random_networks[i][j].edges(data=True)):\n",
    "            new_edge = {'origin': edge[0], 'destination': edge[1], 'value': edge[2]['weight']}\n",
    "            random_network_edges[i][j].append(new_edge)\n",
    "\n",
    "def modified_separate_edges(edges, countries):\n",
    "    edges_intra =  [[] for i in range(20)]\n",
    "    edges_inter = [[] for i in range(20)]\n",
    "\n",
    "    for i in range(20):\n",
    "        for edge in edges[i]:\n",
    "            if edge['origin'] in countries and edge['destination'] in countries:\n",
    "                edges_intra[i].append(edge)\n",
    "            elif (edge['origin'] not in countries) and (edge['destination'] in countries):\n",
    "                edges_inter[i].append(edge)\n",
    "\n",
    "    return edges_intra, edges_inter\n",
    "\n",
    "inter_intra_per_cohort = [[[] for _ in YEARS] for _ in cohorts]"
   ]
  },
  {
   "cell_type": "code",
   "execution_count": 110,
   "metadata": {},
   "outputs": [],
   "source": [
    "for i, cohort in enumerate(cohorts):\n",
    "    for j, year in enumerate(YEARS):\n",
    "        inter_intra_per_cohort[i][j] = modified_separate_edges(random_network_edges[j], cohort)"
   ]
  },
  {
   "cell_type": "code",
   "execution_count": 111,
   "metadata": {},
   "outputs": [],
   "source": [
    "def modified_get_proportions(intra, inter, cohort):\n",
    "    proportions = {country : (0, 0) for country in cohort} # Country is destination\n",
    "    \n",
    "    for edge in intra:\n",
    "        for e in edge:\n",
    "            value = e['value']\n",
    "            proportions[e['destination']] =  (proportions[e['destination']][0] + value, proportions[e['destination']][1])\n",
    "        \n",
    "    for edge in inter:\n",
    "        for e in edge:\n",
    "            value = e['value']\n",
    "            proportions[e['destination']] = (proportions[e['destination']][0] , proportions[e['destination']][1] + value)\n",
    "        \n",
    "    return proportions\n",
    "\n",
    "proportions_per_cohort = [[[] for _ in YEARS] for _ in cohorts]\n",
    "\n",
    "for i, cohort in enumerate(cohorts):\n",
    "    for j, year in enumerate(YEARS):\n",
    "        proportions_per_cohort[i][j].append(modified_get_proportions(inter_intra_per_cohort[i][j][0], inter_intra_per_cohort[i][j][1], cohort))"
   ]
  },
  {
   "cell_type": "code",
   "execution_count": 112,
   "metadata": {},
   "outputs": [],
   "source": [
    "def average_proportions(data):\n",
    "    values = [0 for cohort in data]\n",
    "    for index, cohort in enumerate(data):\n",
    "        current_values = {'intra': 0, 'inter': 0}\n",
    "        for year in cohort:\n",
    "            current_dict = year[0]\n",
    "            for key, value in current_dict.items():\n",
    "                intra, inter = value\n",
    "                intra = intra / 20 # average\n",
    "                inter = inter / 20 # average\n",
    "                \n",
    "                current_values['intra'] += intra\n",
    "                current_values['inter'] += inter\n",
    "        \n",
    "        current_values['intra'] = current_values['intra'] / len(YEARS)\n",
    "        current_values['inter'] = current_values['inter'] / len(YEARS)\n",
    "        \n",
    "        values[index] = (current_values['intra'], current_values['inter'])\n",
    "                \n",
    "    return values\n",
    "\n",
    "average_proportions_per_cohort = average_proportions(proportions_per_cohort)"
   ]
  },
  {
   "cell_type": "code",
   "execution_count": 113,
   "metadata": {},
   "outputs": [
    {
     "name": "stdout",
     "output_type": "stream",
     "text": [
      "{2: (0.795624838232524, 29.608516390545486), 3: (2.4914550259475687, 42.638444328259304), 4: (5.017362162673611, 56.25766484487758), 6: (12.440691837212203, 78.83391496147102), 7: (17.17729594929271, 88.63592348667807), 8: (23.02446913547582, 99.09352576896535), 11: (45.14827153855284, 122.22580738471848)}\n"
     ]
    }
   ],
   "source": [
    "cohort_proportion = {}\n",
    "for cohort in cohorts:\n",
    "    cohort_proportion[len(cohort)] = average_proportions_per_cohort[cohorts.index(cohort)]\n",
    "print(cohort_proportion)"
   ]
  },
  {
   "cell_type": "code",
   "execution_count": 114,
   "metadata": {},
   "outputs": [],
   "source": [
    "intra_proportion = {}\n",
    "inter_proportion = {}\n",
    "\n",
    "# Calculate proportions\n",
    "for size, (intra, inter) in cohort_proportion.items():\n",
    "    total = intra + inter\n",
    "    intra_proportion[size] = intra / total\n",
    "    inter_proportion[size] = inter / total"
   ]
  },
  {
   "cell_type": "code",
   "execution_count": 115,
   "metadata": {},
   "outputs": [
    {
     "data": {
      "image/png": "[encoded data removed]",
      "text/plain": [
       "<Figure size 1200x800 with 1 Axes>"
      ]
     },
     "metadata": {},
     "output_type": "display_data"
    }
   ],
   "source": [
    "cohort_sizes = list(cohort_proportion.keys())\n",
    "intra_values = [intra_proportion[size] for size in cohort_sizes]\n",
    "inter_values = [inter_proportion[size] for size in cohort_sizes]\n",
    "\n",
    "# Create the bar plot\n",
    "fig, ax = plt.subplots(figsize=(12, 8))\n",
    "\n",
    "bar_width = 0.35\n",
    "index = np.arange(len(cohort_sizes))\n",
    "\n",
    "# Plot intra and inter proportions side by side\n",
    "bars_intra = ax.bar(index, intra_values, bar_width, label='Intra-exchange', color=palette[0])\n",
    "bars_inter = ax.bar(index + bar_width, inter_values, bar_width, label='Inter-exchange', color=palette[1])\n",
    "\n",
    "# Add labels and title\n",
    "ax.set_xlabel('Cohort Size')\n",
    "ax.set_ylabel('Proportion')\n",
    "ax.set_title('Proportions of Intra-exchange and Inter-exchange by Cohort Size')\n",
    "ax.set_xticks(index + bar_width / 2)\n",
    "ax.set_xticklabels(cohort_sizes)\n",
    "ax.set_ylim(0, 1)\n",
    "ax.legend()\n",
    "\n",
    "# Add values on top of bars\n",
    "for bar in bars_intra:\n",
    "    height = bar.get_height()\n",
    "    ax.annotate(f'{height:.2f}', xy=(bar.get_x() + bar.get_width() / 2, height),\n",
    "                xytext=(0, 3), textcoords='offset points', ha='center', va='bottom')\n",
    "\n",
    "for bar in bars_inter:\n",
    "    height = bar.get_height()\n",
    "    ax.annotate(f'{height:.2f}', xy=(bar.get_x() + bar.get_width() / 2, height),\n",
    "                xytext=(0, 3), textcoords='offset points', ha='center', va='bottom')\n",
    "    \n",
    "plt.savefig('random_cohort_proportions.pdf', format='pdf')\n",
    "\n",
    "plt.tight_layout()\n",
    "plt.show()"
   ]
  },
  {
   "cell_type": "code",
   "execution_count": 116,
   "metadata": {},
   "outputs": [],
   "source": [
    "def calculate_average_edge_weights(num_years, num_networks, nodes, edges_total):\n",
    "    random_networks = [[] for _ in range(num_years)]\n",
    "    average_edge_weights = [{} for _ in range(num_years)]\n",
    "\n",
    "    for i in range(num_years):\n",
    "        for j in range(num_networks):\n",
    "            G = generate_random_network(len(students_graphs[i].nodes), len(students_graphs[i].edges), (0, 1))\n",
    "            random_networks[i].append(G)\n",
    "\n",
    "        # Calculate average weights\n",
    "        edge_weights_sum = {}\n",
    "        for G in random_networks[i]:\n",
    "            for (u, v, data) in G.edges(data=True):\n",
    "                if (u, v) not in edge_weights_sum:\n",
    "                    edge_weights_sum[(u, v)] = 0\n",
    "                edge_weights_sum[(u, v)] += data['weight']\n",
    "\n",
    "        for (u, v), total_weight in edge_weights_sum.items():\n",
    "            average_edge_weights[i][(u, v)] = total_weight / num_networks\n",
    "\n",
    "    return average_edge_weights"
   ]
  },
  {
   "cell_type": "code",
   "execution_count": 117,
   "metadata": {},
   "outputs": [],
   "source": [
    "average_edge_weights = calculate_average_edge_weights(len(YEARS), 20, nodes, edges_total)\n",
    "\n",
    "# Prepare data for plotting net change\n",
    "def prepare_net_change_data(average_edge_weights, num_years):\n",
    "    net_change_data = [{} for _ in range(num_years)]\n",
    "\n",
    "    for i in range(num_years):\n",
    "        inflow = {}\n",
    "        outflow = {}\n",
    "\n",
    "        for (u, v), weight in average_edge_weights[i].items():\n",
    "            if u not in outflow:\n",
    "                outflow[u] = 0\n",
    "            if v not in inflow:\n",
    "                inflow[v] = 0\n",
    "\n",
    "            outflow[u] += weight\n",
    "            inflow[v] += weight\n",
    "\n",
    "        net_change = {node: inflow.get(node, 0) - outflow.get(node, 0) for node in nodes}\n",
    "        net_change_data[i] = net_change\n",
    "\n",
    "    return net_change_data\n",
    "\n",
    "net_change_data = prepare_net_change_data(average_edge_weights, len(YEARS))\n"
   ]
  },
  {
   "cell_type": "code",
   "execution_count": 118,
   "metadata": {},
   "outputs": [
    {
     "data": {
      "application/vnd.plotly.v1+json": {
       "config": {
        "plotlyServerURL": "https://plot.ly"
       },
       "data": [
        {
         "marker": {
          "color": "blue"
         },
         "name": "Net Change 2013",
         "type": "bar",
         "x": [
          "BIH",
          "AUT",
          "CYP",
          "ITA",
          "LVA",
          "NLD",
          "SVN",
          "FRA",
          "SVK",
          "CZE",
          "LTU",
          "ALB",
          "DEU",
          "CHE",
          "HUN",
          "LIE",
          "DNK",
          "GBR",
          "MLT",
          "BGR",
          "BEL",
          "MNE",
          "HRV",
          "TUR",
          "ESP",
          "SRB",
          "GRC",
          "LUX",
          "FIN",
          "ROU",
          "POL",
          "ISL",
          "NOR",
          "SWE",
          "IRL",
          "MKD",
          "PRT",
          "EST"
         ],
         "xaxis": "x",
         "y": [
          0,
          0,
          0,
          0,
          0,
          0,
          0,
          0,
          0,
          0,
          0,
          0,
          0,
          0,
          0,
          0,
          0,
          0,
          0,
          0,
          0,
          0,
          0,
          0,
          0,
          0,
          0,
          0,
          0,
          0,
          0,
          0,
          0,
          0,
          0,
          0,
          0,
          0
         ],
         "yaxis": "y"
        },
        {
         "marker": {
          "color": "blue"
         },
         "name": "Net Change 2014",
         "type": "bar",
         "x": [
          "BIH",
          "AUT",
          "CYP",
          "ITA",
          "LVA",
          "NLD",
          "SVN",
          "FRA",
          "SVK",
          "CZE",
          "LTU",
          "ALB",
          "DEU",
          "CHE",
          "HUN",
          "LIE",
          "DNK",
          "GBR",
          "MLT",
          "BGR",
          "BEL",
          "MNE",
          "HRV",
          "TUR",
          "ESP",
          "SRB",
          "GRC",
          "LUX",
          "FIN",
          "ROU",
          "POL",
          "ISL",
          "NOR",
          "SWE",
          "IRL",
          "MKD",
          "PRT",
          "EST"
         ],
         "xaxis": "x2",
         "y": [
          0,
          0,
          0,
          0,
          0,
          0,
          0,
          0,
          0,
          0,
          0,
          0,
          0,
          0,
          0,
          0,
          0,
          0,
          0,
          0,
          0,
          0,
          0,
          0,
          0,
          0,
          0,
          0,
          0,
          0,
          0,
          0,
          0,
          0,
          0,
          0,
          0,
          0
         ],
         "yaxis": "y2"
        },
        {
         "marker": {
          "color": "blue"
         },
         "name": "Net Change 2015",
         "type": "bar",
         "x": [
          "BIH",
          "AUT",
          "CYP",
          "ITA",
          "LVA",
          "NLD",
          "SVN",
          "FRA",
          "SVK",
          "CZE",
          "LTU",
          "ALB",
          "DEU",
          "CHE",
          "HUN",
          "LIE",
          "DNK",
          "GBR",
          "MLT",
          "BGR",
          "BEL",
          "MNE",
          "HRV",
          "TUR",
          "ESP",
          "SRB",
          "GRC",
          "LUX",
          "FIN",
          "ROU",
          "POL",
          "ISL",
          "NOR",
          "SWE",
          "IRL",
          "MKD",
          "PRT",
          "EST"
         ],
         "xaxis": "x3",
         "y": [
          0,
          0,
          0,
          0,
          0,
          0,
          0,
          0,
          0,
          0,
          0,
          0,
          0,
          0,
          0,
          0,
          0,
          0,
          0,
          0,
          0,
          0,
          0,
          0,
          0,
          0,
          0,
          0,
          0,
          0,
          0,
          0,
          0,
          0,
          0,
          0,
          0,
          0
         ],
         "yaxis": "y3"
        },
        {
         "marker": {
          "color": "blue"
         },
         "name": "Net Change 2016",
         "type": "bar",
         "x": [
          "BIH",
          "AUT",
          "CYP",
          "ITA",
          "LVA",
          "NLD",
          "SVN",
          "FRA",
          "SVK",
          "CZE",
          "LTU",
          "ALB",
          "DEU",
          "CHE",
          "HUN",
          "LIE",
          "DNK",
          "GBR",
          "MLT",
          "BGR",
          "BEL",
          "MNE",
          "HRV",
          "TUR",
          "ESP",
          "SRB",
          "GRC",
          "LUX",
          "FIN",
          "ROU",
          "POL",
          "ISL",
          "NOR",
          "SWE",
          "IRL",
          "MKD",
          "PRT",
          "EST"
         ],
         "xaxis": "x4",
         "y": [
          0,
          0,
          0,
          0,
          0,
          0,
          0,
          0,
          0,
          0,
          0,
          0,
          0,
          0,
          0,
          0,
          0,
          0,
          0,
          0,
          0,
          0,
          0,
          0,
          0,
          0,
          0,
          0,
          0,
          0,
          0,
          0,
          0,
          0,
          0,
          0,
          0,
          0
         ],
         "yaxis": "y4"
        },
        {
         "marker": {
          "color": "blue"
         },
         "name": "Net Change 2017",
         "type": "bar",
         "x": [
          "BIH",
          "AUT",
          "CYP",
          "ITA",
          "LVA",
          "NLD",
          "SVN",
          "FRA",
          "SVK",
          "CZE",
          "LTU",
          "ALB",
          "DEU",
          "CHE",
          "HUN",
          "LIE",
          "DNK",
          "GBR",
          "MLT",
          "BGR",
          "BEL",
          "MNE",
          "HRV",
          "TUR",
          "ESP",
          "SRB",
          "GRC",
          "LUX",
          "FIN",
          "ROU",
          "POL",
          "ISL",
          "NOR",
          "SWE",
          "IRL",
          "MKD",
          "PRT",
          "EST"
         ],
         "xaxis": "x5",
         "y": [
          0,
          0,
          0,
          0,
          0,
          0,
          0,
          0,
          0,
          0,
          0,
          0,
          0,
          0,
          0,
          0,
          0,
          0,
          0,
          0,
          0,
          0,
          0,
          0,
          0,
          0,
          0,
          0,
          0,
          0,
          0,
          0,
          0,
          0,
          0,
          0,
          0,
          0
         ],
         "yaxis": "y5"
        },
        {
         "marker": {
          "color": "blue"
         },
         "name": "Net Change 2018",
         "type": "bar",
         "x": [
          "BIH",
          "AUT",
          "CYP",
          "ITA",
          "LVA",
          "NLD",
          "SVN",
          "FRA",
          "SVK",
          "CZE",
          "LTU",
          "ALB",
          "DEU",
          "CHE",
          "HUN",
          "LIE",
          "DNK",
          "GBR",
          "MLT",
          "BGR",
          "BEL",
          "MNE",
          "HRV",
          "TUR",
          "ESP",
          "SRB",
          "GRC",
          "LUX",
          "FIN",
          "ROU",
          "POL",
          "ISL",
          "NOR",
          "SWE",
          "IRL",
          "MKD",
          "PRT",
          "EST"
         ],
         "xaxis": "x6",
         "y": [
          0,
          0,
          0,
          0,
          0,
          0,
          0,
          0,
          0,
          0,
          0,
          0,
          0,
          0,
          0,
          0,
          0,
          0,
          0,
          0,
          0,
          0,
          0,
          0,
          0,
          0,
          0,
          0,
          0,
          0,
          0,
          0,
          0,
          0,
          0,
          0,
          0,
          0
         ],
         "yaxis": "y6"
        },
        {
         "marker": {
          "color": "blue"
         },
         "name": "Net Change 2019",
         "type": "bar",
         "x": [
          "BIH",
          "AUT",
          "CYP",
          "ITA",
          "LVA",
          "NLD",
          "SVN",
          "FRA",
          "SVK",
          "CZE",
          "LTU",
          "ALB",
          "DEU",
          "CHE",
          "HUN",
          "LIE",
          "DNK",
          "GBR",
          "MLT",
          "BGR",
          "BEL",
          "MNE",
          "HRV",
          "TUR",
          "ESP",
          "SRB",
          "GRC",
          "LUX",
          "FIN",
          "ROU",
          "POL",
          "ISL",
          "NOR",
          "SWE",
          "IRL",
          "MKD",
          "PRT",
          "EST"
         ],
         "xaxis": "x7",
         "y": [
          0,
          0,
          0,
          0,
          0,
          0,
          0,
          0,
          0,
          0,
          0,
          0,
          0,
          0,
          0,
          0,
          0,
          0,
          0,
          0,
          0,
          0,
          0,
          0,
          0,
          0,
          0,
          0,
          0,
          0,
          0,
          0,
          0,
          0,
          0,
          0,
          0,
          0
         ],
         "yaxis": "y7"
        },
        {
         "marker": {
          "color": "blue"
         },
         "name": "Net Change 2020",
         "type": "bar",
         "x": [
          "BIH",
          "AUT",
          "CYP",
          "ITA",
          "LVA",
          "NLD",
          "SVN",
          "FRA",
          "SVK",
          "CZE",
          "LTU",
          "ALB",
          "DEU",
          "CHE",
          "HUN",
          "LIE",
          "DNK",
          "GBR",
          "MLT",
          "BGR",
          "BEL",
          "MNE",
          "HRV",
          "TUR",
          "ESP",
          "SRB",
          "GRC",
          "LUX",
          "FIN",
          "ROU",
          "POL",
          "ISL",
          "NOR",
          "SWE",
          "IRL",
          "MKD",
          "PRT",
          "EST"
         ],
         "xaxis": "x8",
         "y": [
          0,
          0,
          0,
          0,
          0,
          0,
          0,
          0,
          0,
          0,
          0,
          0,
          0,
          0,
          0,
          0,
          0,
          0,
          0,
          0,
          0,
          0,
          0,
          0,
          0,
          0,
          0,
          0,
          0,
          0,
          0,
          0,
          0,
          0,
          0,
          0,
          0,
          0
         ],
         "yaxis": "y8"
        },
        {
         "marker": {
          "color": "blue"
         },
         "name": "Net Change 2021",
         "type": "bar",
         "x": [
          "BIH",
          "AUT",
          "CYP",
          "ITA",
          "LVA",
          "NLD",
          "SVN",
          "FRA",
          "SVK",
          "CZE",
          "LTU",
          "ALB",
          "DEU",
          "CHE",
          "HUN",
          "LIE",
          "DNK",
          "GBR",
          "MLT",
          "BGR",
          "BEL",
          "MNE",
          "HRV",
          "TUR",
          "ESP",
          "SRB",
          "GRC",
          "LUX",
          "FIN",
          "ROU",
          "POL",
          "ISL",
          "NOR",
          "SWE",
          "IRL",
          "MKD",
          "PRT",
          "EST"
         ],
         "xaxis": "x9",
         "y": [
          0,
          0,
          0,
          0,
          0,
          0,
          0,
          0,
          0,
          0,
          0,
          0,
          0,
          0,
          0,
          0,
          0,
          0,
          0,
          0,
          0,
          0,
          0,
          0,
          0,
          0,
          0,
          0,
          0,
          0,
          0,
          0,
          0,
          0,
          0,
          0,
          0,
          0
         ],
         "yaxis": "y9"
        },
        {
         "marker": {
          "color": "blue"
         },
         "name": "Net Change 2022",
         "type": "bar",
         "x": [
          "BIH",
          "AUT",
          "CYP",
          "ITA",
          "LVA",
          "NLD",
          "SVN",
          "FRA",
          "SVK",
          "CZE",
          "LTU",
          "ALB",
          "DEU",
          "CHE",
          "HUN",
          "LIE",
          "DNK",
          "GBR",
          "MLT",
          "BGR",
          "BEL",
          "MNE",
          "HRV",
          "TUR",
          "ESP",
          "SRB",
          "GRC",
          "LUX",
          "FIN",
          "ROU",
          "POL",
          "ISL",
          "NOR",
          "SWE",
          "IRL",
          "MKD",
          "PRT",
          "EST"
         ],
         "xaxis": "x10",
         "y": [
          0,
          0,
          0,
          0,
          0,
          0,
          0,
          0,
          0,
          0,
          0,
          0,
          0,
          0,
          0,
          0,
          0,
          0,
          0,
          0,
          0,
          0,
          0,
          0,
          0,
          0,
          0,
          0,
          0,
          0,
          0,
          0,
          0,
          0,
          0,
          0,
          0,
          0
         ],
         "yaxis": "y10"
        }
       ],
       "layout": {
        "annotations": [
         {
          "font": {
           "size": 16
          },
          "showarrow": false,
          "text": "Year 2013",
          "x": 0.5,
          "xanchor": "center",
          "xref": "paper",
          "y": 1,
          "yanchor": "bottom",
          "yref": "paper"
         },
         {
          "font": {
           "size": 16
          },
          "showarrow": false,
          "text": "Year 2014",
          "x": 0.5,
          "xanchor": "center",
          "xref": "paper",
          "y": 0.8950000000000001,
          "yanchor": "bottom",
          "yref": "paper"
         },
         {
          "font": {
           "size": 16
          },
          "showarrow": false,
          "text": "Year 2015",
          "x": 0.5,
          "xanchor": "center",
          "xref": "paper",
          "y": 0.7900000000000001,
          "yanchor": "bottom",
          "yref": "paper"
         },
         {
          "font": {
           "size": 16
          },
          "showarrow": false,
          "text": "Year 2016",
          "x": 0.5,
          "xanchor": "center",
          "xref": "paper",
          "y": 0.6850000000000002,
          "yanchor": "bottom",
          "yref": "paper"
         },
         {
          "font": {
           "size": 16
          },
          "showarrow": false,
          "text": "Year 2017",
          "x": 0.5,
          "xanchor": "center",
          "xref": "paper",
          "y": 0.5800000000000001,
          "yanchor": "bottom",
          "yref": "paper"
         },
         {
          "font": {
           "size": 16
          },
          "showarrow": false,
          "text": "Year 2018",
          "x": 0.5,
          "xanchor": "center",
          "xref": "paper",
          "y": 0.47500000000000003,
          "yanchor": "bottom",
          "yref": "paper"
         },
         {
          "font": {
           "size": 16
          },
          "showarrow": false,
          "text": "Year 2019",
          "x": 0.5,
          "xanchor": "center",
          "xref": "paper",
          "y": 0.37000000000000005,
          "yanchor": "bottom",
          "yref": "paper"
         },
         {
          "font": {
           "size": 16
          },
          "showarrow": false,
          "text": "Year 2020",
          "x": 0.5,
          "xanchor": "center",
          "xref": "paper",
          "y": 0.265,
          "yanchor": "bottom",
          "yref": "paper"
         },
         {
          "font": {
           "size": 16
          },
          "showarrow": false,
          "text": "Year 2021",
          "x": 0.5,
          "xanchor": "center",
          "xref": "paper",
          "y": 0.16000000000000003,
          "yanchor": "bottom",
          "yref": "paper"
         },
         {
          "font": {
           "size": 16
          },
          "showarrow": false,
          "text": "Year 2022",
          "x": 0.5,
          "xanchor": "center",
          "xref": "paper",
          "y": 0.05500000000000001,
          "yanchor": "bottom",
          "yref": "paper"
         }
        ],
        "height": 4000,
        "template": {
         "data": {
          "bar": [
           {
            "error_x": {
             "color": "#2a3f5f"
            },
            "error_y": {
             "color": "#2a3f5f"
            },
            "marker": {
             "line": {
              "color": "#E5ECF6",
              "width": 0.5
             },
             "pattern": {
              "fillmode": "overlay",
              "size": 10,
              "solidity": 0.2
             }
            },
            "type": "bar"
           }
          ],
          "barpolar": [
           {
            "marker": {
             "line": {
              "color": "#E5ECF6",
              "width": 0.5
             },
             "pattern": {
              "fillmode": "overlay",
              "size": 10,
              "solidity": 0.2
             }
            },
            "type": "barpolar"
           }
          ],
          "carpet": [
           {
            "aaxis": {
             "endlinecolor": "#2a3f5f",
             "gridcolor": "white",
             "linecolor": "white",
             "minorgridcolor": "white",
             "startlinecolor": "#2a3f5f"
            },
            "baxis": {
             "endlinecolor": "#2a3f5f",
             "gridcolor": "white",
             "linecolor": "white",
             "minorgridcolor": "white",
             "startlinecolor": "#2a3f5f"
            },
            "type": "carpet"
           }
          ],
          "choropleth": [
           {
            "colorbar": {
             "outlinewidth": 0,
             "ticks": ""
            },
            "type": "choropleth"
           }
          ],
          "contour": [
           {
            "colorbar": {
             "outlinewidth": 0,
             "ticks": ""
            },
            "colorscale": [
             [
              0,
              "#0d0887"
             ],
             [
              0.1111111111111111,
              "#46039f"
             ],
             [
              0.2222222222222222,
              "#7201a8"
             ],
             [
              0.3333333333333333,
              "#9c179e"
             ],
             [
              0.4444444444444444,
              "#bd3786"
             ],
             [
              0.5555555555555556,
              "#d8576b"
             ],
             [
              0.6666666666666666,
              "#ed7953"
             ],
             [
              0.7777777777777778,
              "#fb9f3a"
             ],
             [
              0.8888888888888888,
              "#fdca26"
             ],
             [
              1,
              "#f0f921"
             ]
            ],
            "type": "contour"
           }
          ],
          "contourcarpet": [
           {
            "colorbar": {
             "outlinewidth": 0,
             "ticks": ""
            },
            "type": "contourcarpet"
           }
          ],
          "heatmap": [
           {
            "colorbar": {
             "outlinewidth": 0,
             "ticks": ""
            },
            "colorscale": [
             [
              0,
              "#0d0887"
             ],
             [
              0.1111111111111111,
              "#46039f"
             ],
             [
              0.2222222222222222,
              "#7201a8"
             ],
             [
              0.3333333333333333,
              "#9c179e"
             ],
             [
              0.4444444444444444,
              "#bd3786"
             ],
             [
              0.5555555555555556,
              "#d8576b"
             ],
             [
              0.6666666666666666,
              "#ed7953"
             ],
             [
              0.7777777777777778,
              "#fb9f3a"
             ],
             [
              0.8888888888888888,
              "#fdca26"
             ],
             [
              1,
              "#f0f921"
             ]
            ],
            "type": "heatmap"
           }
          ],
          "heatmapgl": [
           {
            "colorbar": {
             "outlinewidth": 0,
             "ticks": ""
            },
            "colorscale": [
             [
              0,
              "#0d0887"
             ],
             [
              0.1111111111111111,
              "#46039f"
             ],
             [
              0.2222222222222222,
              "#7201a8"
             ],
             [
              0.3333333333333333,
              "#9c179e"
             ],
             [
              0.4444444444444444,
              "#bd3786"
             ],
             [
              0.5555555555555556,
              "#d8576b"
             ],
             [
              0.6666666666666666,
              "#ed7953"
             ],
             [
              0.7777777777777778,
              "#fb9f3a"
             ],
             [
              0.8888888888888888,
              "#fdca26"
             ],
             [
              1,
              "#f0f921"
             ]
            ],
            "type": "heatmapgl"
           }
          ],
          "histogram": [
           {
            "marker": {
             "pattern": {
              "fillmode": "overlay",
              "size": 10,
              "solidity": 0.2
             }
            },
            "type": "histogram"
           }
          ],
          "histogram2d": [
           {
            "colorbar": {
             "outlinewidth": 0,
             "ticks": ""
            },
            "colorscale": [
             [
              0,
              "#0d0887"
             ],
             [
              0.1111111111111111,
              "#46039f"
             ],
             [
              0.2222222222222222,
              "#7201a8"
             ],
             [
              0.3333333333333333,
              "#9c179e"
             ],
             [
              0.4444444444444444,
              "#bd3786"
             ],
             [
              0.5555555555555556,
              "#d8576b"
             ],
             [
              0.6666666666666666,
              "#ed7953"
             ],
             [
              0.7777777777777778,
              "#fb9f3a"
             ],
             [
              0.8888888888888888,
              "#fdca26"
             ],
             [
              1,
              "#f0f921"
             ]
            ],
            "type": "histogram2d"
           }
          ],
          "histogram2dcontour": [
           {
            "colorbar": {
             "outlinewidth": 0,
             "ticks": ""
            },
            "colorscale": [
             [
              0,
              "#0d0887"
             ],
             [
              0.1111111111111111,
              "#46039f"
             ],
             [
              0.2222222222222222,
              "#7201a8"
             ],
             [
              0.3333333333333333,
              "#9c179e"
             ],
             [
              0.4444444444444444,
              "#bd3786"
             ],
             [
              0.5555555555555556,
              "#d8576b"
             ],
             [
              0.6666666666666666,
              "#ed7953"
             ],
             [
              0.7777777777777778,
              "#fb9f3a"
             ],
             [
              0.8888888888888888,
              "#fdca26"
             ],
             [
              1,
              "#f0f921"
             ]
            ],
            "type": "histogram2dcontour"
           }
          ],
          "mesh3d": [
           {
            "colorbar": {
             "outlinewidth": 0,
             "ticks": ""
            },
            "type": "mesh3d"
           }
          ],
          "parcoords": [
           {
            "line": {
             "colorbar": {
              "outlinewidth": 0,
              "ticks": ""
             }
            },
            "type": "parcoords"
           }
          ],
          "pie": [
           {
            "automargin": true,
            "type": "pie"
           }
          ],
          "scatter": [
           {
            "fillpattern": {
             "fillmode": "overlay",
             "size": 10,
             "solidity": 0.2
            },
            "type": "scatter"
           }
          ],
          "scatter3d": [
           {
            "line": {
             "colorbar": {
              "outlinewidth": 0,
              "ticks": ""
             }
            },
            "marker": {
             "colorbar": {
              "outlinewidth": 0,
              "ticks": ""
             }
            },
            "type": "scatter3d"
           }
          ],
          "scattercarpet": [
           {
            "marker": {
             "colorbar": {
              "outlinewidth": 0,
              "ticks": ""
             }
            },
            "type": "scattercarpet"
           }
          ],
          "scattergeo": [
           {
            "marker": {
             "colorbar": {
              "outlinewidth": 0,
              "ticks": ""
             }
            },
            "type": "scattergeo"
           }
          ],
          "scattergl": [
           {
            "marker": {
             "colorbar": {
              "outlinewidth": 0,
              "ticks": ""
             }
            },
            "type": "scattergl"
           }
          ],
          "scattermapbox": [
           {
            "marker": {
             "colorbar": {
              "outlinewidth": 0,
              "ticks": ""
             }
            },
            "type": "scattermapbox"
           }
          ],
          "scatterpolar": [
           {
            "marker": {
             "colorbar": {
              "outlinewidth": 0,
              "ticks": ""
             }
            },
            "type": "scatterpolar"
           }
          ],
          "scatterpolargl": [
           {
            "marker": {
             "colorbar": {
              "outlinewidth": 0,
              "ticks": ""
             }
            },
            "type": "scatterpolargl"
           }
          ],
          "scatterternary": [
           {
            "marker": {
             "colorbar": {
              "outlinewidth": 0,
              "ticks": ""
             }
            },
            "type": "scatterternary"
           }
          ],
          "surface": [
           {
            "colorbar": {
             "outlinewidth": 0,
             "ticks": ""
            },
            "colorscale": [
             [
              0,
              "#0d0887"
             ],
             [
              0.1111111111111111,
              "#46039f"
             ],
             [
              0.2222222222222222,
              "#7201a8"
             ],
             [
              0.3333333333333333,
              "#9c179e"
             ],
             [
              0.4444444444444444,
              "#bd3786"
             ],
             [
              0.5555555555555556,
              "#d8576b"
             ],
             [
              0.6666666666666666,
              "#ed7953"
             ],
             [
              0.7777777777777778,
              "#fb9f3a"
             ],
             [
              0.8888888888888888,
              "#fdca26"
             ],
             [
              1,
              "#f0f921"
             ]
            ],
            "type": "surface"
           }
          ],
          "table": [
           {
            "cells": {
             "fill": {
              "color": "#EBF0F8"
             },
             "line": {
              "color": "white"
             }
            },
            "header": {
             "fill": {
              "color": "#C8D4E3"
             },
             "line": {
              "color": "white"
             }
            },
            "type": "table"
           }
          ]
         },
         "layout": {
          "annotationdefaults": {
           "arrowcolor": "#2a3f5f",
           "arrowhead": 0,
           "arrowwidth": 1
          },
          "autotypenumbers": "strict",
          "coloraxis": {
           "colorbar": {
            "outlinewidth": 0,
            "ticks": ""
           }
          },
          "colorscale": {
           "diverging": [
            [
             0,
             "#8e0152"
            ],
            [
             0.1,
             "#c51b7d"
            ],
            [
             0.2,
             "#de77ae"
            ],
            [
             0.3,
             "#f1b6da"
            ],
            [
             0.4,
             "#fde0ef"
            ],
            [
             0.5,
             "#f7f7f7"
            ],
            [
             0.6,
             "#e6f5d0"
            ],
            [
             0.7,
             "#b8e186"
            ],
            [
             0.8,
             "#7fbc41"
            ],
            [
             0.9,
             "#4d9221"
            ],
            [
             1,
             "#276419"
            ]
           ],
           "sequential": [
            [
             0,
             "#0d0887"
            ],
            [
             0.1111111111111111,
             "#46039f"
            ],
            [
             0.2222222222222222,
             "#7201a8"
            ],
            [
             0.3333333333333333,
             "#9c179e"
            ],
            [
             0.4444444444444444,
             "#bd3786"
            ],
            [
             0.5555555555555556,
             "#d8576b"
            ],
            [
             0.6666666666666666,
             "#ed7953"
            ],
            [
             0.7777777777777778,
             "#fb9f3a"
            ],
            [
             0.8888888888888888,
             "#fdca26"
            ],
            [
             1,
             "#f0f921"
            ]
           ],
           "sequentialminus": [
            [
             0,
             "#0d0887"
            ],
            [
             0.1111111111111111,
             "#46039f"
            ],
            [
             0.2222222222222222,
             "#7201a8"
            ],
            [
             0.3333333333333333,
             "#9c179e"
            ],
            [
             0.4444444444444444,
             "#bd3786"
            ],
            [
             0.5555555555555556,
             "#d8576b"
            ],
            [
             0.6666666666666666,
             "#ed7953"
            ],
            [
             0.7777777777777778,
             "#fb9f3a"
            ],
            [
             0.8888888888888888,
             "#fdca26"
            ],
            [
             1,
             "#f0f921"
            ]
           ]
          },
          "colorway": [
           "#636efa",
           "#EF553B",
           "#00cc96",
           "#ab63fa",
           "#FFA15A",
           "#19d3f3",
           "#FF6692",
           "#B6E880",
           "#FF97FF",
           "#FECB52"
          ],
          "font": {
           "color": "#2a3f5f"
          },
          "geo": {
           "bgcolor": "white",
           "lakecolor": "white",
           "landcolor": "#E5ECF6",
           "showlakes": true,
           "showland": true,
           "subunitcolor": "white"
          },
          "hoverlabel": {
           "align": "left"
          },
          "hovermode": "closest",
          "mapbox": {
           "style": "light"
          },
          "paper_bgcolor": "white",
          "plot_bgcolor": "#E5ECF6",
          "polar": {
           "angularaxis": {
            "gridcolor": "white",
            "linecolor": "white",
            "ticks": ""
           },
           "bgcolor": "#E5ECF6",
           "radialaxis": {
            "gridcolor": "white",
            "linecolor": "white",
            "ticks": ""
           }
          },
          "scene": {
           "xaxis": {
            "backgroundcolor": "#E5ECF6",
            "gridcolor": "white",
            "gridwidth": 2,
            "linecolor": "white",
            "showbackground": true,
            "ticks": "",
            "zerolinecolor": "white"
           },
           "yaxis": {
            "backgroundcolor": "#E5ECF6",
            "gridcolor": "white",
            "gridwidth": 2,
            "linecolor": "white",
            "showbackground": true,
            "ticks": "",
            "zerolinecolor": "white"
           },
           "zaxis": {
            "backgroundcolor": "#E5ECF6",
            "gridcolor": "white",
            "gridwidth": 2,
            "linecolor": "white",
            "showbackground": true,
            "ticks": "",
            "zerolinecolor": "white"
           }
          },
          "shapedefaults": {
           "line": {
            "color": "#2a3f5f"
           }
          },
          "ternary": {
           "aaxis": {
            "gridcolor": "white",
            "linecolor": "white",
            "ticks": ""
           },
           "baxis": {
            "gridcolor": "white",
            "linecolor": "white",
            "ticks": ""
           },
           "bgcolor": "#E5ECF6",
           "caxis": {
            "gridcolor": "white",
            "linecolor": "white",
            "ticks": ""
           }
          },
          "title": {
           "x": 0.05
          },
          "xaxis": {
           "automargin": true,
           "gridcolor": "white",
           "linecolor": "white",
           "ticks": "",
           "title": {
            "standoff": 15
           },
           "zerolinecolor": "white",
           "zerolinewidth": 2
          },
          "yaxis": {
           "automargin": true,
           "gridcolor": "white",
           "linecolor": "white",
           "ticks": "",
           "title": {
            "standoff": 15
           },
           "zerolinecolor": "white",
           "zerolinewidth": 2
          }
         }
        },
        "title": {
         "text": "Net Change (Inflow - Outflow) for Nodes in Random Networks"
        },
        "xaxis": {
         "anchor": "y",
         "domain": [
          0,
          1
         ]
        },
        "xaxis10": {
         "anchor": "y10",
         "domain": [
          0,
          1
         ]
        },
        "xaxis2": {
         "anchor": "y2",
         "domain": [
          0,
          1
         ]
        },
        "xaxis3": {
         "anchor": "y3",
         "domain": [
          0,
          1
         ]
        },
        "xaxis4": {
         "anchor": "y4",
         "domain": [
          0,
          1
         ]
        },
        "xaxis5": {
         "anchor": "y5",
         "domain": [
          0,
          1
         ]
        },
        "xaxis6": {
         "anchor": "y6",
         "domain": [
          0,
          1
         ]
        },
        "xaxis7": {
         "anchor": "y7",
         "domain": [
          0,
          1
         ]
        },
        "xaxis8": {
         "anchor": "y8",
         "domain": [
          0,
          1
         ]
        },
        "xaxis9": {
         "anchor": "y9",
         "domain": [
          0,
          1
         ]
        },
        "yaxis": {
         "anchor": "x",
         "domain": [
          0.9450000000000001,
          1
         ]
        },
        "yaxis10": {
         "anchor": "x10",
         "domain": [
          0,
          0.05500000000000001
         ]
        },
        "yaxis2": {
         "anchor": "x2",
         "domain": [
          0.8400000000000001,
          0.8950000000000001
         ]
        },
        "yaxis3": {
         "anchor": "x3",
         "domain": [
          0.7350000000000001,
          0.7900000000000001
         ]
        },
        "yaxis4": {
         "anchor": "x4",
         "domain": [
          0.6300000000000001,
          0.6850000000000002
         ]
        },
        "yaxis5": {
         "anchor": "x5",
         "domain": [
          0.525,
          0.5800000000000001
         ]
        },
        "yaxis6": {
         "anchor": "x6",
         "domain": [
          0.42000000000000004,
          0.47500000000000003
         ]
        },
        "yaxis7": {
         "anchor": "x7",
         "domain": [
          0.31500000000000006,
          0.37000000000000005
         ]
        },
        "yaxis8": {
         "anchor": "x8",
         "domain": [
          0.21000000000000002,
          0.265
         ]
        },
        "yaxis9": {
         "anchor": "x9",
         "domain": [
          0.10500000000000001,
          0.16000000000000003
         ]
        }
       }
      }
     },
     "metadata": {},
     "output_type": "display_data"
    }
   ],
   "source": [
    "# Set up the subplots\n",
    "num_years = len(YEARS)\n",
    "fig = make_subplots(rows=num_years, cols=1, subplot_titles=[f'Year {year}' for year in YEARS])\n",
    "\n",
    "# Generate plots for each year\n",
    "for i, year in enumerate(YEARS):\n",
    "    net_change = net_change_data[i]\n",
    "\n",
    "    nodes = list(net_change.keys())\n",
    "    net_change_values = list(net_change.values())\n",
    "\n",
    "    # Create trace for net change\n",
    "    fig.add_trace(\n",
    "        go.Bar(x=nodes, y=net_change_values, name=f'Net Change {year}', marker_color='blue'),\n",
    "        row=i+1, col=1\n",
    "    )\n",
    "\n",
    "# Update layout\n",
    "fig.update_layout(\n",
    "    height=400*num_years,\n",
    "    title_text='Net Change (Inflow - Outflow) for Nodes in Random Networks'\n",
    ")\n",
    "\n",
    "fig.write_html('net_change_outgoing_weights.html')\n",
    "fig.show()\n"
   ]
  }
 ],
 "metadata": {
  "kernelspec": {
   "display_name": "base",
   "language": "python",
   "name": "python3"
  },
  "language_info": {
   "codemirror_mode": {
    "name": "ipython",
    "version": 3
   },
   "file_extension": ".py",
   "mimetype": "text/x-python",
   "name": "python",
   "nbconvert_exporter": "python",
   "pygments_lexer": "ipython3",
   "version": "3.10.9"
  }
 },
 "nbformat": 4,
 "nbformat_minor": 2
}
