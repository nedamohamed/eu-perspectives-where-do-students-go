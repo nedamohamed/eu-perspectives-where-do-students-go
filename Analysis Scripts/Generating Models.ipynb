{
 "cells": [
  {
   "cell_type": "markdown",
   "metadata": {},
   "source": [
    "In this notebook, alternative networks that are used for comparison will be generated."
   ]
  },
  {
   "cell_type": "code",
   "execution_count": 3,
   "metadata": {},
   "outputs": [],
   "source": [
    "# Importing the required libraries\n",
    "from iso3166 import countries\n",
    "import json\n",
    "import networkx as nx\n",
    "import pandas as pd"
   ]
  },
  {
   "cell_type": "code",
   "execution_count": 7,
   "metadata": {},
   "outputs": [],
   "source": [
    "# Load data\n",
    "country_language_df = pd.read_csv('data/languages.csv')\n",
    "\n",
    "with open('data/nodes.json') as f:\n",
    "    nodes = json.load(f)\n",
    "\n",
    "borders_df = pd.read_csv('data/GEODATASOURCE-COUNTRY-BORDERS.CSV')"
   ]
  },
  {
   "cell_type": "code",
   "execution_count": 8,
   "metadata": {},
   "outputs": [],
   "source": [
    "def convert_to_alpha3(country_name):\n",
    "    try:\n",
    "        result = countries.get(country_name).alpha3\n",
    "        return result\n",
    "    except:\n",
    "        return 0\n",
    "\n",
    "borders_df['country_code'] = borders_df['country_code'].astype(str)\n",
    "borders_df['country_border_code'] = borders_df['country_border_code'].astype(str)\n",
    "\n",
    "borders_df['country_code'] = borders_df['country_code'].apply(convert_to_alpha3)\n",
    "borders_df['country_border_code'] = borders_df['country_border_code'].apply(convert_to_alpha3)"
   ]
  },
  {
   "cell_type": "code",
   "execution_count": 9,
   "metadata": {},
   "outputs": [],
   "source": [
    "borders_df_filtered = borders_df[borders_df['country_code'].isin(nodes)]\n",
    "borders_df_filtered = borders_df[borders_df['country_border_code'].isin(nodes)]"
   ]
  },
  {
   "cell_type": "code",
   "execution_count": 10,
   "metadata": {},
   "outputs": [],
   "source": [
    "country_borders = dict()\n",
    "\n",
    "for i, row in borders_df_filtered.iterrows():\n",
    "    if row['country_code'] not in country_borders:\n",
    "        country_borders[row['country_code']] = []\n",
    "    if row['country_border_code'] != 0:\n",
    "        country_borders[row['country_code']].append(row['country_border_code'])\n",
    "\n",
    "borders_graph = nx.Graph()\n",
    "for country, neighbors in country_borders.items():\n",
    "    for neighbor in neighbors:\n",
    "        borders_graph.add_edge(country, neighbor)\n",
    "\n",
    "with open('borders-edges.json', 'w') as f:\n",
    "    json.dump(list(borders_graph.edges()), f, indent=4)\n",
    "\n",
    "nx.write_gexf(borders_graph, 'borders-graph.gexf')"
   ]
  },
  {
   "cell_type": "code",
   "execution_count": 13,
   "metadata": {},
   "outputs": [],
   "source": [
    "country_language = {}\n",
    "language_family = {}\n",
    "for index, row in country_language_df.iterrows():\n",
    "    language_list = []\n",
    "    \n",
    "    language_list.append(row['first-language'])\n",
    "    \n",
    "    if row['first-language'] not in language_family:\n",
    "        language_family[row['first-language']] = row['first-language-predecessor']\n",
    "    \n",
    "    if type(row['second-language']) != float:\n",
    "        language_list.append(row['second-language'])\n",
    "        if row['second-language'] not in language_family:\n",
    "            language_family[row['second-language']] = row['second-language-predecessor']\n",
    "    if type(row['third-language']) != float:\n",
    "        language_list.append(row['third-language'])\n",
    "        if row['third-language'] not in language_family:\n",
    "            language_family[row['third-language']] = row['third-language-predecessor']\n",
    "    if type(row['fourth-language']) != float:\n",
    "        language_list.append(row['fourth-language'])\n",
    "        if row['fourth-language'] not in language_family:\n",
    "            language_family[row['fourth-language']] = row['fourth-language-predecessor']\n",
    "    \n",
    "    country_language[row['Name']] = language_list\n",
    "    \n",
    "    for language in language_list:\n",
    "        if language not in language_family:\n",
    "            language_family[language] = \"\""
   ]
  },
  {
   "cell_type": "code",
   "execution_count": 14,
   "metadata": {},
   "outputs": [
    {
     "name": "stdout",
     "output_type": "stream",
     "text": [
      "{'ALB': ['GRC', 'CYP', 'MKD'], 'GRC': ['ALB', 'CYP', 'MKD'], 'CYP': ['ALB', 'GRC', 'TUR', 'MKD'], 'MKD': ['HRV', 'SRB', 'ALB', 'CYP', 'SVN', 'MNE', 'GRC', 'BIH', 'BGR'], 'MLT': ['NLD', 'CHE', 'DEU', 'IRL', 'BEL', 'AUT', 'NOR', 'LIE', 'GBR', 'LUX'], 'NLD': ['MLT', 'CHE', 'DEU', 'IRL', 'BEL', 'AUT', 'NOR', 'LIE', 'GBR', 'LUX'], 'CHE': ['ROU', 'MLT', 'NLD', 'DEU', 'IRL', 'ITA', 'BEL', 'AUT', 'NOR', 'LIE', 'GBR', 'FRA', 'PRT', 'ESP', 'LUX'], 'DEU': ['MLT', 'NLD', 'CHE', 'IRL', 'BEL', 'AUT', 'NOR', 'LIE', 'GBR', 'LUX'], 'IRL': ['MLT', 'NLD', 'CHE', 'DEU', 'BEL', 'AUT', 'NOR', 'LIE', 'GBR', 'LUX'], 'BEL': ['ROU', 'MLT', 'NLD', 'CHE', 'DEU', 'IRL', 'ITA', 'NOR', 'AUT', 'LIE', 'GBR', 'FRA', 'PRT', 'ESP', 'LUX'], 'AUT': ['MLT', 'NLD', 'CHE', 'DEU', 'IRL', 'BEL', 'NOR', 'LIE', 'GBR', 'LUX'], 'NOR': ['MLT', 'NLD', 'CHE', 'DEU', 'IRL', 'BEL', 'AUT', 'LIE', 'GBR', 'LUX'], 'LIE': ['MLT', 'NLD', 'CHE', 'DEU', 'IRL', 'BEL', 'AUT', 'NOR', 'GBR', 'LUX'], 'GBR': ['MLT', 'NLD', 'CHE', 'DEU', 'IRL', 'BEL', 'AUT', 'NOR', 'LIE', 'LUX'], 'LUX': ['ROU', 'MLT', 'NLD', 'CHE', 'DEU', 'IRL', 'ITA', 'BEL', 'AUT', 'NOR', 'LIE', 'GBR', 'FRA', 'PRT', 'ESP'], 'ROU': ['CHE', 'ITA', 'BEL', 'FRA', 'PRT', 'ESP', 'LUX'], 'ITA': ['ROU', 'CHE', 'BEL', 'PRT', 'FRA', 'ESP', 'LUX'], 'FRA': ['ROU', 'CHE', 'ITA', 'BEL', 'PRT', 'ESP', 'LUX'], 'PRT': ['ROU', 'CHE', 'ITA', 'BEL', 'FRA', 'ESP', 'LUX'], 'ESP': ['ROU', 'CHE', 'ITA', 'BEL', 'FRA', 'PRT', 'LUX'], 'HRV': ['SRB', 'SVN', 'MKD', 'MNE', 'BIH', 'BGR'], 'SRB': ['HRV', 'SVN', 'MKD', 'MNE', 'BIH', 'BGR'], 'SVN': ['HRV', 'SRB', 'MKD', 'MNE', 'BIH', 'BGR'], 'MNE': ['HRV', 'SRB', 'SVN', 'MKD', 'BIH', 'BGR'], 'BIH': ['HRV', 'SRB', 'SVN', 'MKD', 'MNE', 'BGR'], 'BGR': ['HRV', 'SRB', 'SVN', 'MKD', 'MNE', 'BIH'], 'TUR': ['CYP'], 'SVK': ['CZE', 'POL'], 'CZE': ['SVK', 'POL'], 'POL': ['SVK', 'CZE'], 'DNK': ['ISL', 'SWE'], 'ISL': ['DNK', 'SWE'], 'SWE': ['DNK', 'ISL'], 'HUN': ['FIN', 'EST'], 'FIN': ['HUN', 'EST'], 'EST': ['HUN', 'FIN'], 'LTU': ['LVA'], 'LVA': ['LTU']}\n"
     ]
    }
   ],
   "source": [
    "language_graph = {}\n",
    "\n",
    "family_to_countries = {}\n",
    "\n",
    "for country, languages in country_language.items():\n",
    "    for language in languages:\n",
    "        family = language_family.get(language)\n",
    "        if family:\n",
    "            if family not in family_to_countries:\n",
    "                family_to_countries[family] = set()\n",
    "            family_to_countries[family].add(country)\n",
    "\n",
    "for family, countries in family_to_countries.items():\n",
    "    countries_list = list(countries)\n",
    "    for i in range(len(countries_list)):\n",
    "        for j in range(i + 1, len(countries_list)):\n",
    "            country1 = countries_list[i]\n",
    "            country2 = countries_list[j]\n",
    "            if country1 not in language_graph:\n",
    "                language_graph[country1] = set()\n",
    "            if country2 not in language_graph:\n",
    "                language_graph[country2] = set()\n",
    "            language_graph[country1].add(country2)\n",
    "            language_graph[country2].add(country1)\n",
    "\n",
    "graph = {k: list(v) for k, v in language_graph.items()}\n",
    "\n",
    "print(graph)"
   ]
  },
  {
   "cell_type": "code",
   "execution_count": 15,
   "metadata": {},
   "outputs": [
    {
     "name": "stdout",
     "output_type": "stream",
     "text": [
      "Graph with 38 nodes and 118 edges\n"
     ]
    }
   ],
   "source": [
    "G = nx.Graph()\n",
    "\n",
    "family_to_countries = {}\n",
    "\n",
    "for country, languages in country_language.items():\n",
    "    for language in languages:\n",
    "        family = language_family.get(language)\n",
    "        if family:\n",
    "            if family not in family_to_countries:\n",
    "                family_to_countries[family] = set()\n",
    "            family_to_countries[family].add(country)\n",
    "\n",
    "for family, countries in family_to_countries.items():\n",
    "    countries_list = list(countries)\n",
    "    for i in range(len(countries_list)):\n",
    "        for j in range(i + 1, len(countries_list)):\n",
    "            country1 = countries_list[i]\n",
    "            country2 = countries_list[j]\n",
    "            G.add_edge(country1, country2, weight=1, family=family)\n",
    "\n",
    "print(G)"
   ]
  },
  {
   "cell_type": "code",
   "execution_count": 16,
   "metadata": {},
   "outputs": [],
   "source": [
    "edges_with_data = [\n",
    "    {\"source\": u, \"target\": v, **d} for u, v, d in G.edges(data=True)\n",
    "]"
   ]
  },
  {
   "cell_type": "code",
   "execution_count": 17,
   "metadata": {},
   "outputs": [],
   "source": [
    "with open('language-model-edges.json', 'w') as f:\n",
    "    json.dump(edges_with_data, f, indent=4)"
   ]
  },
  {
   "cell_type": "code",
   "execution_count": 18,
   "metadata": {},
   "outputs": [],
   "source": [
    "with open(\"country-language.json\", \"w\") as f:\n",
    "    json.dump(country_language, f, indent=4)"
   ]
  }
 ],
 "metadata": {
  "kernelspec": {
   "display_name": "base",
   "language": "python",
   "name": "python3"
  },
  "language_info": {
   "codemirror_mode": {
    "name": "ipython",
    "version": 3
   },
   "file_extension": ".py",
   "mimetype": "text/x-python",
   "name": "python",
   "nbconvert_exporter": "python",
   "pygments_lexer": "ipython3",
   "version": "3.10.9"
  }
 },
 "nbformat": 4,
 "nbformat_minor": 2
}
